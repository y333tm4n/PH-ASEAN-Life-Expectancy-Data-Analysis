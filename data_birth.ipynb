{
 "cells": [
  {
   "cell_type": "code",
   "execution_count": 1,
   "metadata": {},
   "outputs": [],
   "source": [
    "import numpy as np\n",
    "import pandas as pd\n",
    "import matplotlib.pyplot as plt\n",
    "import seaborn as sns"
   ]
  },
  {
   "cell_type": "code",
   "execution_count": 1,
   "metadata": {},
   "outputs": [
    {
     "ename": "NameError",
     "evalue": "name 'pd' is not defined",
     "output_type": "error",
     "traceback": [
      "\u001b[1;31m---------------------------------------------------------------------------\u001b[0m",
      "\u001b[1;31mNameError\u001b[0m                                 Traceback (most recent call last)",
      "Cell \u001b[1;32mIn[1], line 2\u001b[0m\n\u001b[0;32m      1\u001b[0m \u001b[39m# read csv file\u001b[39;00m\n\u001b[1;32m----> 2\u001b[0m df \u001b[39m=\u001b[39m pd\u001b[39m.\u001b[39mread_csv(\u001b[39m'\u001b[39m\u001b[39m/kaggle/input/life-expectancy-at-birth-across-the-globe/Life Expectancy at Birth.csv\u001b[39m\u001b[39m'\u001b[39m)\n",
      "\u001b[1;31mNameError\u001b[0m: name 'pd' is not defined"
     ]
    }
   ],
   "source": [
    "# read csv file\n",
    "df = pd.read_csv('birth_data.csv')"
   ]
  },
  {
   "cell_type": "code",
   "execution_count": 3,
   "metadata": {},
   "outputs": [
    {
     "data": {
      "text/html": [
       "<div>\n",
       "<style scoped>\n",
       "    .dataframe tbody tr th:only-of-type {\n",
       "        vertical-align: middle;\n",
       "    }\n",
       "\n",
       "    .dataframe tbody tr th {\n",
       "        vertical-align: top;\n",
       "    }\n",
       "\n",
       "    .dataframe thead th {\n",
       "        text-align: right;\n",
       "    }\n",
       "</style>\n",
       "<table border=\"1\" class=\"dataframe\">\n",
       "  <thead>\n",
       "    <tr style=\"text-align: right;\">\n",
       "      <th></th>\n",
       "      <th>ISO3</th>\n",
       "      <th>Country</th>\n",
       "      <th>Continent</th>\n",
       "      <th>Hemisphere</th>\n",
       "      <th>Human Development Groups</th>\n",
       "      <th>UNDP Developing Regions</th>\n",
       "      <th>HDI Rank (2021)</th>\n",
       "      <th>Life Expectancy at Birth (1990)</th>\n",
       "      <th>Life Expectancy at Birth (1991)</th>\n",
       "      <th>Life Expectancy at Birth (1992)</th>\n",
       "      <th>...</th>\n",
       "      <th>Life Expectancy at Birth (2012)</th>\n",
       "      <th>Life Expectancy at Birth (2013)</th>\n",
       "      <th>Life Expectancy at Birth (2014)</th>\n",
       "      <th>Life Expectancy at Birth (2015)</th>\n",
       "      <th>Life Expectancy at Birth (2016)</th>\n",
       "      <th>Life Expectancy at Birth (2017)</th>\n",
       "      <th>Life Expectancy at Birth (2018)</th>\n",
       "      <th>Life Expectancy at Birth (2019)</th>\n",
       "      <th>Life Expectancy at Birth (2020)</th>\n",
       "      <th>Life Expectancy at Birth (2021)</th>\n",
       "    </tr>\n",
       "  </thead>\n",
       "  <tbody>\n",
       "    <tr>\n",
       "      <th>0</th>\n",
       "      <td>AFG</td>\n",
       "      <td>Afghanistan</td>\n",
       "      <td>Asia</td>\n",
       "      <td>Northern Hemisphere</td>\n",
       "      <td>Low</td>\n",
       "      <td>SA</td>\n",
       "      <td>180.0</td>\n",
       "      <td>45.9672</td>\n",
       "      <td>46.6631</td>\n",
       "      <td>47.5955</td>\n",
       "      <td>...</td>\n",
       "      <td>61.9230</td>\n",
       "      <td>62.4167</td>\n",
       "      <td>62.5451</td>\n",
       "      <td>62.6587</td>\n",
       "      <td>63.1361</td>\n",
       "      <td>63.0160</td>\n",
       "      <td>63.0810</td>\n",
       "      <td>63.5645</td>\n",
       "      <td>62.5751</td>\n",
       "      <td>61.9824</td>\n",
       "    </tr>\n",
       "    <tr>\n",
       "      <th>1</th>\n",
       "      <td>AGO</td>\n",
       "      <td>Angola</td>\n",
       "      <td>Africa</td>\n",
       "      <td>Southern Hemisphere</td>\n",
       "      <td>Medium</td>\n",
       "      <td>SSA</td>\n",
       "      <td>148.0</td>\n",
       "      <td>41.8933</td>\n",
       "      <td>43.8127</td>\n",
       "      <td>42.2088</td>\n",
       "      <td>...</td>\n",
       "      <td>58.6231</td>\n",
       "      <td>59.3074</td>\n",
       "      <td>60.0397</td>\n",
       "      <td>60.6546</td>\n",
       "      <td>61.0923</td>\n",
       "      <td>61.6798</td>\n",
       "      <td>62.1438</td>\n",
       "      <td>62.4484</td>\n",
       "      <td>62.2612</td>\n",
       "      <td>61.6434</td>\n",
       "    </tr>\n",
       "    <tr>\n",
       "      <th>2</th>\n",
       "      <td>ALB</td>\n",
       "      <td>Albania</td>\n",
       "      <td>Europe</td>\n",
       "      <td>Northern Hemisphere</td>\n",
       "      <td>High</td>\n",
       "      <td>ECA</td>\n",
       "      <td>67.0</td>\n",
       "      <td>73.1439</td>\n",
       "      <td>73.3776</td>\n",
       "      <td>73.7148</td>\n",
       "      <td>...</td>\n",
       "      <td>78.0640</td>\n",
       "      <td>78.1226</td>\n",
       "      <td>78.4075</td>\n",
       "      <td>78.6441</td>\n",
       "      <td>78.8602</td>\n",
       "      <td>79.0473</td>\n",
       "      <td>79.1838</td>\n",
       "      <td>79.2825</td>\n",
       "      <td>76.9893</td>\n",
       "      <td>76.4626</td>\n",
       "    </tr>\n",
       "    <tr>\n",
       "      <th>3</th>\n",
       "      <td>AND</td>\n",
       "      <td>Andorra</td>\n",
       "      <td>Europe</td>\n",
       "      <td>Northern Hemisphere</td>\n",
       "      <td>Very High</td>\n",
       "      <td>NaN</td>\n",
       "      <td>40.0</td>\n",
       "      <td>78.4063</td>\n",
       "      <td>77.9805</td>\n",
       "      <td>80.3241</td>\n",
       "      <td>...</td>\n",
       "      <td>82.9166</td>\n",
       "      <td>82.9343</td>\n",
       "      <td>82.9483</td>\n",
       "      <td>82.9534</td>\n",
       "      <td>82.9671</td>\n",
       "      <td>82.9803</td>\n",
       "      <td>82.9923</td>\n",
       "      <td>83.0039</td>\n",
       "      <td>79.0234</td>\n",
       "      <td>80.3684</td>\n",
       "    </tr>\n",
       "    <tr>\n",
       "      <th>4</th>\n",
       "      <td>ARE</td>\n",
       "      <td>United Arab Emirates</td>\n",
       "      <td>Asia</td>\n",
       "      <td>Northern Hemisphere</td>\n",
       "      <td>Very High</td>\n",
       "      <td>AS</td>\n",
       "      <td>26.0</td>\n",
       "      <td>71.9004</td>\n",
       "      <td>72.2414</td>\n",
       "      <td>72.3062</td>\n",
       "      <td>...</td>\n",
       "      <td>78.7155</td>\n",
       "      <td>78.8528</td>\n",
       "      <td>79.0442</td>\n",
       "      <td>79.2232</td>\n",
       "      <td>79.3347</td>\n",
       "      <td>79.5036</td>\n",
       "      <td>79.6274</td>\n",
       "      <td>79.7262</td>\n",
       "      <td>78.9457</td>\n",
       "      <td>78.7104</td>\n",
       "    </tr>\n",
       "  </tbody>\n",
       "</table>\n",
       "<p>5 rows × 39 columns</p>\n",
       "</div>"
      ],
      "text/plain": [
       "  ISO3               Country Continent           Hemisphere  \\\n",
       "0  AFG           Afghanistan      Asia  Northern Hemisphere   \n",
       "1  AGO                Angola    Africa  Southern Hemisphere   \n",
       "2  ALB               Albania    Europe  Northern Hemisphere   \n",
       "3  AND               Andorra    Europe  Northern Hemisphere   \n",
       "4  ARE  United Arab Emirates      Asia  Northern Hemisphere   \n",
       "\n",
       "  Human Development Groups UNDP Developing Regions  HDI Rank (2021)  \\\n",
       "0                      Low                      SA            180.0   \n",
       "1                   Medium                     SSA            148.0   \n",
       "2                     High                     ECA             67.0   \n",
       "3                Very High                     NaN             40.0   \n",
       "4                Very High                      AS             26.0   \n",
       "\n",
       "   Life Expectancy at Birth (1990)  Life Expectancy at Birth (1991)  \\\n",
       "0                          45.9672                          46.6631   \n",
       "1                          41.8933                          43.8127   \n",
       "2                          73.1439                          73.3776   \n",
       "3                          78.4063                          77.9805   \n",
       "4                          71.9004                          72.2414   \n",
       "\n",
       "   Life Expectancy at Birth (1992)  ...  Life Expectancy at Birth (2012)  \\\n",
       "0                          47.5955  ...                          61.9230   \n",
       "1                          42.2088  ...                          58.6231   \n",
       "2                          73.7148  ...                          78.0640   \n",
       "3                          80.3241  ...                          82.9166   \n",
       "4                          72.3062  ...                          78.7155   \n",
       "\n",
       "   Life Expectancy at Birth (2013)  Life Expectancy at Birth (2014)  \\\n",
       "0                          62.4167                          62.5451   \n",
       "1                          59.3074                          60.0397   \n",
       "2                          78.1226                          78.4075   \n",
       "3                          82.9343                          82.9483   \n",
       "4                          78.8528                          79.0442   \n",
       "\n",
       "   Life Expectancy at Birth (2015)  Life Expectancy at Birth (2016)  \\\n",
       "0                          62.6587                          63.1361   \n",
       "1                          60.6546                          61.0923   \n",
       "2                          78.6441                          78.8602   \n",
       "3                          82.9534                          82.9671   \n",
       "4                          79.2232                          79.3347   \n",
       "\n",
       "   Life Expectancy at Birth (2017)  Life Expectancy at Birth (2018)  \\\n",
       "0                          63.0160                          63.0810   \n",
       "1                          61.6798                          62.1438   \n",
       "2                          79.0473                          79.1838   \n",
       "3                          82.9803                          82.9923   \n",
       "4                          79.5036                          79.6274   \n",
       "\n",
       "   Life Expectancy at Birth (2019)  Life Expectancy at Birth (2020)  \\\n",
       "0                          63.5645                          62.5751   \n",
       "1                          62.4484                          62.2612   \n",
       "2                          79.2825                          76.9893   \n",
       "3                          83.0039                          79.0234   \n",
       "4                          79.7262                          78.9457   \n",
       "\n",
       "   Life Expectancy at Birth (2021)  \n",
       "0                          61.9824  \n",
       "1                          61.6434  \n",
       "2                          76.4626  \n",
       "3                          80.3684  \n",
       "4                          78.7104  \n",
       "\n",
       "[5 rows x 39 columns]"
      ]
     },
     "execution_count": 3,
     "metadata": {},
     "output_type": "execute_result"
    }
   ],
   "source": [
    "# open figure\n",
    "df.head()"
   ]
  },
  {
   "cell_type": "code",
   "execution_count": 4,
   "metadata": {},
   "outputs": [
    {
     "data": {
      "text/plain": [
       "(195, 39)"
      ]
     },
     "execution_count": 4,
     "metadata": {},
     "output_type": "execute_result"
    }
   ],
   "source": [
    "# size of the data \n",
    "df.shape"
   ]
  },
  {
   "cell_type": "code",
   "execution_count": 5,
   "metadata": {},
   "outputs": [
    {
     "data": {
      "text/plain": [
       "ISO3                                object\n",
       "Country                             object\n",
       "Continent                           object\n",
       "Hemisphere                          object\n",
       "Human Development Groups            object\n",
       "UNDP Developing Regions             object\n",
       "HDI Rank (2021)                    float64\n",
       "Life Expectancy at Birth (1990)    float64\n",
       "Life Expectancy at Birth (1991)    float64\n",
       "Life Expectancy at Birth (1992)    float64\n",
       "Life Expectancy at Birth (1993)    float64\n",
       "Life Expectancy at Birth (1994)    float64\n",
       "Life Expectancy at Birth (1995)    float64\n",
       "Life Expectancy at Birth (1996)    float64\n",
       "Life Expectancy at Birth (1997)    float64\n",
       "Life Expectancy at Birth (1998)    float64\n",
       "Life Expectancy at Birth (1999)    float64\n",
       "Life Expectancy at Birth (2000)    float64\n",
       "Life Expectancy at Birth (2001)    float64\n",
       "Life Expectancy at Birth (2002)    float64\n",
       "Life Expectancy at Birth (2003)    float64\n",
       "Life Expectancy at Birth (2004)    float64\n",
       "Life Expectancy at Birth (2005)    float64\n",
       "Life Expectancy at Birth (2006)    float64\n",
       "Life Expectancy at Birth (2007)    float64\n",
       "Life Expectancy at Birth (2008)    float64\n",
       "Life Expectancy at Birth (2009)    float64\n",
       "Life Expectancy at Birth (2010)    float64\n",
       "Life Expectancy at Birth (2011)    float64\n",
       "Life Expectancy at Birth (2012)    float64\n",
       "Life Expectancy at Birth (2013)    float64\n",
       "Life Expectancy at Birth (2014)    float64\n",
       "Life Expectancy at Birth (2015)    float64\n",
       "Life Expectancy at Birth (2016)    float64\n",
       "Life Expectancy at Birth (2017)    float64\n",
       "Life Expectancy at Birth (2018)    float64\n",
       "Life Expectancy at Birth (2019)    float64\n",
       "Life Expectancy at Birth (2020)    float64\n",
       "Life Expectancy at Birth (2021)    float64\n",
       "dtype: object"
      ]
     },
     "execution_count": 5,
     "metadata": {},
     "output_type": "execute_result"
    }
   ],
   "source": [
    "# data types\n",
    "df.dtypes"
   ]
  },
  {
   "cell_type": "code",
   "execution_count": 6,
   "metadata": {},
   "outputs": [
    {
     "data": {
      "text/html": [
       "<div>\n",
       "<style scoped>\n",
       "    .dataframe tbody tr th:only-of-type {\n",
       "        vertical-align: middle;\n",
       "    }\n",
       "\n",
       "    .dataframe tbody tr th {\n",
       "        vertical-align: top;\n",
       "    }\n",
       "\n",
       "    .dataframe thead th {\n",
       "        text-align: right;\n",
       "    }\n",
       "</style>\n",
       "<table border=\"1\" class=\"dataframe\">\n",
       "  <thead>\n",
       "    <tr style=\"text-align: right;\">\n",
       "      <th></th>\n",
       "      <th>ISO3</th>\n",
       "      <th>Country</th>\n",
       "      <th>Continent</th>\n",
       "      <th>Hemisphere</th>\n",
       "      <th>Human Development Groups</th>\n",
       "      <th>UNDP Developing Regions</th>\n",
       "      <th>HDI Rank (2021)</th>\n",
       "      <th>Life Expectancy at Birth (1990)</th>\n",
       "      <th>Life Expectancy at Birth (1991)</th>\n",
       "      <th>Life Expectancy at Birth (1992)</th>\n",
       "      <th>...</th>\n",
       "      <th>Life Expectancy at Birth (2012)</th>\n",
       "      <th>Life Expectancy at Birth (2013)</th>\n",
       "      <th>Life Expectancy at Birth (2014)</th>\n",
       "      <th>Life Expectancy at Birth (2015)</th>\n",
       "      <th>Life Expectancy at Birth (2016)</th>\n",
       "      <th>Life Expectancy at Birth (2017)</th>\n",
       "      <th>Life Expectancy at Birth (2018)</th>\n",
       "      <th>Life Expectancy at Birth (2019)</th>\n",
       "      <th>Life Expectancy at Birth (2020)</th>\n",
       "      <th>Life Expectancy at Birth (2021)</th>\n",
       "    </tr>\n",
       "  </thead>\n",
       "  <tbody>\n",
       "    <tr>\n",
       "      <th>0</th>\n",
       "      <td>AFG</td>\n",
       "      <td>Afghanistan</td>\n",
       "      <td>Asia</td>\n",
       "      <td>Northern Hemisphere</td>\n",
       "      <td>Low</td>\n",
       "      <td>SA</td>\n",
       "      <td>180.0</td>\n",
       "      <td>45.9672</td>\n",
       "      <td>46.6631</td>\n",
       "      <td>47.5955</td>\n",
       "      <td>...</td>\n",
       "      <td>61.9230</td>\n",
       "      <td>62.4167</td>\n",
       "      <td>62.5451</td>\n",
       "      <td>62.6587</td>\n",
       "      <td>63.1361</td>\n",
       "      <td>63.0160</td>\n",
       "      <td>63.0810</td>\n",
       "      <td>63.5645</td>\n",
       "      <td>62.5751</td>\n",
       "      <td>61.9824</td>\n",
       "    </tr>\n",
       "    <tr>\n",
       "      <th>1</th>\n",
       "      <td>AGO</td>\n",
       "      <td>Angola</td>\n",
       "      <td>Africa</td>\n",
       "      <td>Southern Hemisphere</td>\n",
       "      <td>Medium</td>\n",
       "      <td>SSA</td>\n",
       "      <td>148.0</td>\n",
       "      <td>41.8933</td>\n",
       "      <td>43.8127</td>\n",
       "      <td>42.2088</td>\n",
       "      <td>...</td>\n",
       "      <td>58.6231</td>\n",
       "      <td>59.3074</td>\n",
       "      <td>60.0397</td>\n",
       "      <td>60.6546</td>\n",
       "      <td>61.0923</td>\n",
       "      <td>61.6798</td>\n",
       "      <td>62.1438</td>\n",
       "      <td>62.4484</td>\n",
       "      <td>62.2612</td>\n",
       "      <td>61.6434</td>\n",
       "    </tr>\n",
       "    <tr>\n",
       "      <th>2</th>\n",
       "      <td>ALB</td>\n",
       "      <td>Albania</td>\n",
       "      <td>Europe</td>\n",
       "      <td>Northern Hemisphere</td>\n",
       "      <td>High</td>\n",
       "      <td>ECA</td>\n",
       "      <td>67.0</td>\n",
       "      <td>73.1439</td>\n",
       "      <td>73.3776</td>\n",
       "      <td>73.7148</td>\n",
       "      <td>...</td>\n",
       "      <td>78.0640</td>\n",
       "      <td>78.1226</td>\n",
       "      <td>78.4075</td>\n",
       "      <td>78.6441</td>\n",
       "      <td>78.8602</td>\n",
       "      <td>79.0473</td>\n",
       "      <td>79.1838</td>\n",
       "      <td>79.2825</td>\n",
       "      <td>76.9893</td>\n",
       "      <td>76.4626</td>\n",
       "    </tr>\n",
       "    <tr>\n",
       "      <th>3</th>\n",
       "      <td>AND</td>\n",
       "      <td>Andorra</td>\n",
       "      <td>Europe</td>\n",
       "      <td>Northern Hemisphere</td>\n",
       "      <td>Very High</td>\n",
       "      <td>NaN</td>\n",
       "      <td>40.0</td>\n",
       "      <td>78.4063</td>\n",
       "      <td>77.9805</td>\n",
       "      <td>80.3241</td>\n",
       "      <td>...</td>\n",
       "      <td>82.9166</td>\n",
       "      <td>82.9343</td>\n",
       "      <td>82.9483</td>\n",
       "      <td>82.9534</td>\n",
       "      <td>82.9671</td>\n",
       "      <td>82.9803</td>\n",
       "      <td>82.9923</td>\n",
       "      <td>83.0039</td>\n",
       "      <td>79.0234</td>\n",
       "      <td>80.3684</td>\n",
       "    </tr>\n",
       "    <tr>\n",
       "      <th>4</th>\n",
       "      <td>ARE</td>\n",
       "      <td>United Arab Emirates</td>\n",
       "      <td>Asia</td>\n",
       "      <td>Northern Hemisphere</td>\n",
       "      <td>Very High</td>\n",
       "      <td>AS</td>\n",
       "      <td>26.0</td>\n",
       "      <td>71.9004</td>\n",
       "      <td>72.2414</td>\n",
       "      <td>72.3062</td>\n",
       "      <td>...</td>\n",
       "      <td>78.7155</td>\n",
       "      <td>78.8528</td>\n",
       "      <td>79.0442</td>\n",
       "      <td>79.2232</td>\n",
       "      <td>79.3347</td>\n",
       "      <td>79.5036</td>\n",
       "      <td>79.6274</td>\n",
       "      <td>79.7262</td>\n",
       "      <td>78.9457</td>\n",
       "      <td>78.7104</td>\n",
       "    </tr>\n",
       "    <tr>\n",
       "      <th>5</th>\n",
       "      <td>ARG</td>\n",
       "      <td>Argentina</td>\n",
       "      <td>America</td>\n",
       "      <td>Southern Hemisphere</td>\n",
       "      <td>Very High</td>\n",
       "      <td>LAC</td>\n",
       "      <td>47.0</td>\n",
       "      <td>71.7837</td>\n",
       "      <td>72.3190</td>\n",
       "      <td>72.4295</td>\n",
       "      <td>...</td>\n",
       "      <td>76.4669</td>\n",
       "      <td>76.4908</td>\n",
       "      <td>76.7549</td>\n",
       "      <td>76.7602</td>\n",
       "      <td>76.3077</td>\n",
       "      <td>76.8330</td>\n",
       "      <td>76.9994</td>\n",
       "      <td>77.2845</td>\n",
       "      <td>75.8921</td>\n",
       "      <td>75.3899</td>\n",
       "    </tr>\n",
       "    <tr>\n",
       "      <th>6</th>\n",
       "      <td>ARM</td>\n",
       "      <td>Armenia</td>\n",
       "      <td>Asia</td>\n",
       "      <td>Northern Hemisphere</td>\n",
       "      <td>High</td>\n",
       "      <td>ECA</td>\n",
       "      <td>85.0</td>\n",
       "      <td>68.8209</td>\n",
       "      <td>68.6431</td>\n",
       "      <td>68.6266</td>\n",
       "      <td>...</td>\n",
       "      <td>73.4540</td>\n",
       "      <td>73.6759</td>\n",
       "      <td>74.0577</td>\n",
       "      <td>74.4361</td>\n",
       "      <td>74.6639</td>\n",
       "      <td>74.9059</td>\n",
       "      <td>75.0645</td>\n",
       "      <td>75.4386</td>\n",
       "      <td>72.1730</td>\n",
       "      <td>72.0431</td>\n",
       "    </tr>\n",
       "    <tr>\n",
       "      <th>7</th>\n",
       "      <td>ATG</td>\n",
       "      <td>Antigua and Barbuda</td>\n",
       "      <td>America</td>\n",
       "      <td>Northern Hemisphere</td>\n",
       "      <td>High</td>\n",
       "      <td>LAC</td>\n",
       "      <td>71.0</td>\n",
       "      <td>73.4922</td>\n",
       "      <td>73.4354</td>\n",
       "      <td>73.4168</td>\n",
       "      <td>...</td>\n",
       "      <td>77.3502</td>\n",
       "      <td>77.5834</td>\n",
       "      <td>77.8577</td>\n",
       "      <td>77.9127</td>\n",
       "      <td>78.1516</td>\n",
       "      <td>78.2683</td>\n",
       "      <td>78.5112</td>\n",
       "      <td>78.6912</td>\n",
       "      <td>78.8406</td>\n",
       "      <td>78.4968</td>\n",
       "    </tr>\n",
       "    <tr>\n",
       "      <th>8</th>\n",
       "      <td>AUS</td>\n",
       "      <td>Australia</td>\n",
       "      <td>Oceania</td>\n",
       "      <td>Southern Hemisphere</td>\n",
       "      <td>Very High</td>\n",
       "      <td>NaN</td>\n",
       "      <td>5.0</td>\n",
       "      <td>77.0443</td>\n",
       "      <td>77.4831</td>\n",
       "      <td>77.4765</td>\n",
       "      <td>...</td>\n",
       "      <td>82.3456</td>\n",
       "      <td>82.6041</td>\n",
       "      <td>82.5677</td>\n",
       "      <td>82.6552</td>\n",
       "      <td>82.8707</td>\n",
       "      <td>83.0006</td>\n",
       "      <td>83.3871</td>\n",
       "      <td>83.1100</td>\n",
       "      <td>84.3239</td>\n",
       "      <td>84.5265</td>\n",
       "    </tr>\n",
       "    <tr>\n",
       "      <th>9</th>\n",
       "      <td>AUT</td>\n",
       "      <td>Austria</td>\n",
       "      <td>Europe</td>\n",
       "      <td>Northern Hemisphere</td>\n",
       "      <td>Very High</td>\n",
       "      <td>NaN</td>\n",
       "      <td>25.0</td>\n",
       "      <td>75.7396</td>\n",
       "      <td>75.7931</td>\n",
       "      <td>75.9931</td>\n",
       "      <td>...</td>\n",
       "      <td>80.8410</td>\n",
       "      <td>81.0783</td>\n",
       "      <td>81.3903</td>\n",
       "      <td>81.1594</td>\n",
       "      <td>81.5925</td>\n",
       "      <td>81.6391</td>\n",
       "      <td>81.6862</td>\n",
       "      <td>81.9077</td>\n",
       "      <td>81.5036</td>\n",
       "      <td>81.5797</td>\n",
       "    </tr>\n",
       "  </tbody>\n",
       "</table>\n",
       "<p>10 rows × 39 columns</p>\n",
       "</div>"
      ],
      "text/plain": [
       "  ISO3               Country Continent           Hemisphere  \\\n",
       "0  AFG           Afghanistan      Asia  Northern Hemisphere   \n",
       "1  AGO                Angola    Africa  Southern Hemisphere   \n",
       "2  ALB               Albania    Europe  Northern Hemisphere   \n",
       "3  AND               Andorra    Europe  Northern Hemisphere   \n",
       "4  ARE  United Arab Emirates      Asia  Northern Hemisphere   \n",
       "5  ARG             Argentina   America  Southern Hemisphere   \n",
       "6  ARM               Armenia      Asia  Northern Hemisphere   \n",
       "7  ATG   Antigua and Barbuda   America  Northern Hemisphere   \n",
       "8  AUS             Australia   Oceania  Southern Hemisphere   \n",
       "9  AUT               Austria    Europe  Northern Hemisphere   \n",
       "\n",
       "  Human Development Groups UNDP Developing Regions  HDI Rank (2021)  \\\n",
       "0                      Low                      SA            180.0   \n",
       "1                   Medium                     SSA            148.0   \n",
       "2                     High                     ECA             67.0   \n",
       "3                Very High                     NaN             40.0   \n",
       "4                Very High                      AS             26.0   \n",
       "5                Very High                     LAC             47.0   \n",
       "6                     High                     ECA             85.0   \n",
       "7                     High                     LAC             71.0   \n",
       "8                Very High                     NaN              5.0   \n",
       "9                Very High                     NaN             25.0   \n",
       "\n",
       "   Life Expectancy at Birth (1990)  Life Expectancy at Birth (1991)  \\\n",
       "0                          45.9672                          46.6631   \n",
       "1                          41.8933                          43.8127   \n",
       "2                          73.1439                          73.3776   \n",
       "3                          78.4063                          77.9805   \n",
       "4                          71.9004                          72.2414   \n",
       "5                          71.7837                          72.3190   \n",
       "6                          68.8209                          68.6431   \n",
       "7                          73.4922                          73.4354   \n",
       "8                          77.0443                          77.4831   \n",
       "9                          75.7396                          75.7931   \n",
       "\n",
       "   Life Expectancy at Birth (1992)  ...  Life Expectancy at Birth (2012)  \\\n",
       "0                          47.5955  ...                          61.9230   \n",
       "1                          42.2088  ...                          58.6231   \n",
       "2                          73.7148  ...                          78.0640   \n",
       "3                          80.3241  ...                          82.9166   \n",
       "4                          72.3062  ...                          78.7155   \n",
       "5                          72.4295  ...                          76.4669   \n",
       "6                          68.6266  ...                          73.4540   \n",
       "7                          73.4168  ...                          77.3502   \n",
       "8                          77.4765  ...                          82.3456   \n",
       "9                          75.9931  ...                          80.8410   \n",
       "\n",
       "   Life Expectancy at Birth (2013)  Life Expectancy at Birth (2014)  \\\n",
       "0                          62.4167                          62.5451   \n",
       "1                          59.3074                          60.0397   \n",
       "2                          78.1226                          78.4075   \n",
       "3                          82.9343                          82.9483   \n",
       "4                          78.8528                          79.0442   \n",
       "5                          76.4908                          76.7549   \n",
       "6                          73.6759                          74.0577   \n",
       "7                          77.5834                          77.8577   \n",
       "8                          82.6041                          82.5677   \n",
       "9                          81.0783                          81.3903   \n",
       "\n",
       "   Life Expectancy at Birth (2015)  Life Expectancy at Birth (2016)  \\\n",
       "0                          62.6587                          63.1361   \n",
       "1                          60.6546                          61.0923   \n",
       "2                          78.6441                          78.8602   \n",
       "3                          82.9534                          82.9671   \n",
       "4                          79.2232                          79.3347   \n",
       "5                          76.7602                          76.3077   \n",
       "6                          74.4361                          74.6639   \n",
       "7                          77.9127                          78.1516   \n",
       "8                          82.6552                          82.8707   \n",
       "9                          81.1594                          81.5925   \n",
       "\n",
       "   Life Expectancy at Birth (2017)  Life Expectancy at Birth (2018)  \\\n",
       "0                          63.0160                          63.0810   \n",
       "1                          61.6798                          62.1438   \n",
       "2                          79.0473                          79.1838   \n",
       "3                          82.9803                          82.9923   \n",
       "4                          79.5036                          79.6274   \n",
       "5                          76.8330                          76.9994   \n",
       "6                          74.9059                          75.0645   \n",
       "7                          78.2683                          78.5112   \n",
       "8                          83.0006                          83.3871   \n",
       "9                          81.6391                          81.6862   \n",
       "\n",
       "   Life Expectancy at Birth (2019)  Life Expectancy at Birth (2020)  \\\n",
       "0                          63.5645                          62.5751   \n",
       "1                          62.4484                          62.2612   \n",
       "2                          79.2825                          76.9893   \n",
       "3                          83.0039                          79.0234   \n",
       "4                          79.7262                          78.9457   \n",
       "5                          77.2845                          75.8921   \n",
       "6                          75.4386                          72.1730   \n",
       "7                          78.6912                          78.8406   \n",
       "8                          83.1100                          84.3239   \n",
       "9                          81.9077                          81.5036   \n",
       "\n",
       "   Life Expectancy at Birth (2021)  \n",
       "0                          61.9824  \n",
       "1                          61.6434  \n",
       "2                          76.4626  \n",
       "3                          80.3684  \n",
       "4                          78.7104  \n",
       "5                          75.3899  \n",
       "6                          72.0431  \n",
       "7                          78.4968  \n",
       "8                          84.5265  \n",
       "9                          81.5797  \n",
       "\n",
       "[10 rows x 39 columns]"
      ]
     },
     "execution_count": 6,
     "metadata": {},
     "output_type": "execute_result"
    }
   ],
   "source": [
    "# see the first ten rows\n",
    "df.head(10)"
   ]
  },
  {
   "cell_type": "code",
   "execution_count": 7,
   "metadata": {},
   "outputs": [
    {
     "data": {
      "text/html": [
       "<div>\n",
       "<style scoped>\n",
       "    .dataframe tbody tr th:only-of-type {\n",
       "        vertical-align: middle;\n",
       "    }\n",
       "\n",
       "    .dataframe tbody tr th {\n",
       "        vertical-align: top;\n",
       "    }\n",
       "\n",
       "    .dataframe thead th {\n",
       "        text-align: right;\n",
       "    }\n",
       "</style>\n",
       "<table border=\"1\" class=\"dataframe\">\n",
       "  <thead>\n",
       "    <tr style=\"text-align: right;\">\n",
       "      <th></th>\n",
       "      <th>ISO3</th>\n",
       "      <th>Country</th>\n",
       "      <th>Continent</th>\n",
       "      <th>Hemisphere</th>\n",
       "      <th>Human Development Groups</th>\n",
       "      <th>UNDP Developing Regions</th>\n",
       "      <th>HDI Rank (2021)</th>\n",
       "      <th>Life Expectancy at Birth (1990)</th>\n",
       "      <th>Life Expectancy at Birth (1991)</th>\n",
       "      <th>Life Expectancy at Birth (1992)</th>\n",
       "      <th>...</th>\n",
       "      <th>Life Expectancy at Birth (2012)</th>\n",
       "      <th>Life Expectancy at Birth (2013)</th>\n",
       "      <th>Life Expectancy at Birth (2014)</th>\n",
       "      <th>Life Expectancy at Birth (2015)</th>\n",
       "      <th>Life Expectancy at Birth (2016)</th>\n",
       "      <th>Life Expectancy at Birth (2017)</th>\n",
       "      <th>Life Expectancy at Birth (2018)</th>\n",
       "      <th>Life Expectancy at Birth (2019)</th>\n",
       "      <th>Life Expectancy at Birth (2020)</th>\n",
       "      <th>Life Expectancy at Birth (2021)</th>\n",
       "    </tr>\n",
       "  </thead>\n",
       "  <tbody>\n",
       "    <tr>\n",
       "      <th>185</th>\n",
       "      <td>UZB</td>\n",
       "      <td>Uzbekistan</td>\n",
       "      <td>Asia</td>\n",
       "      <td>Northern Hemisphere</td>\n",
       "      <td>High</td>\n",
       "      <td>ECA</td>\n",
       "      <td>101.0</td>\n",
       "      <td>65.3456</td>\n",
       "      <td>65.1307</td>\n",
       "      <td>65.1091</td>\n",
       "      <td>...</td>\n",
       "      <td>69.8742</td>\n",
       "      <td>69.9895</td>\n",
       "      <td>70.2343</td>\n",
       "      <td>70.4753</td>\n",
       "      <td>70.7548</td>\n",
       "      <td>71.0095</td>\n",
       "      <td>71.1494</td>\n",
       "      <td>71.3441</td>\n",
       "      <td>70.3309</td>\n",
       "      <td>70.8616</td>\n",
       "    </tr>\n",
       "    <tr>\n",
       "      <th>186</th>\n",
       "      <td>VCT</td>\n",
       "      <td>Saint Vincent and the Grenadines</td>\n",
       "      <td>America</td>\n",
       "      <td>Northern Hemisphere</td>\n",
       "      <td>High</td>\n",
       "      <td>LAC</td>\n",
       "      <td>89.0</td>\n",
       "      <td>72.3797</td>\n",
       "      <td>72.9368</td>\n",
       "      <td>72.6238</td>\n",
       "      <td>...</td>\n",
       "      <td>74.1463</td>\n",
       "      <td>73.7976</td>\n",
       "      <td>74.4730</td>\n",
       "      <td>74.4071</td>\n",
       "      <td>74.2799</td>\n",
       "      <td>74.3052</td>\n",
       "      <td>74.1279</td>\n",
       "      <td>72.8347</td>\n",
       "      <td>72.1256</td>\n",
       "      <td>69.6291</td>\n",
       "    </tr>\n",
       "    <tr>\n",
       "      <th>187</th>\n",
       "      <td>VEN</td>\n",
       "      <td>Venezuela</td>\n",
       "      <td>America</td>\n",
       "      <td>Northern Hemisphere</td>\n",
       "      <td>Medium</td>\n",
       "      <td>LAC</td>\n",
       "      <td>120.0</td>\n",
       "      <td>71.5319</td>\n",
       "      <td>71.8318</td>\n",
       "      <td>71.8060</td>\n",
       "      <td>...</td>\n",
       "      <td>73.0364</td>\n",
       "      <td>73.1962</td>\n",
       "      <td>72.8533</td>\n",
       "      <td>73.0064</td>\n",
       "      <td>72.0578</td>\n",
       "      <td>71.9430</td>\n",
       "      <td>71.9788</td>\n",
       "      <td>72.1614</td>\n",
       "      <td>71.0949</td>\n",
       "      <td>70.5536</td>\n",
       "    </tr>\n",
       "    <tr>\n",
       "      <th>188</th>\n",
       "      <td>VNM</td>\n",
       "      <td>Viet Nam</td>\n",
       "      <td>Asia</td>\n",
       "      <td>Northern Hemisphere</td>\n",
       "      <td>High</td>\n",
       "      <td>EAP</td>\n",
       "      <td>115.0</td>\n",
       "      <td>69.2127</td>\n",
       "      <td>69.8490</td>\n",
       "      <td>69.9579</td>\n",
       "      <td>...</td>\n",
       "      <td>73.7044</td>\n",
       "      <td>73.7755</td>\n",
       "      <td>73.8545</td>\n",
       "      <td>73.8763</td>\n",
       "      <td>73.9382</td>\n",
       "      <td>73.9632</td>\n",
       "      <td>73.9757</td>\n",
       "      <td>74.0929</td>\n",
       "      <td>75.3779</td>\n",
       "      <td>73.6181</td>\n",
       "    </tr>\n",
       "    <tr>\n",
       "      <th>189</th>\n",
       "      <td>VUT</td>\n",
       "      <td>Vanuatu</td>\n",
       "      <td>Oceania</td>\n",
       "      <td>Southern Hemisphere</td>\n",
       "      <td>Medium</td>\n",
       "      <td>EAP</td>\n",
       "      <td>140.0</td>\n",
       "      <td>66.6747</td>\n",
       "      <td>67.2031</td>\n",
       "      <td>67.3535</td>\n",
       "      <td>...</td>\n",
       "      <td>69.4972</td>\n",
       "      <td>69.5342</td>\n",
       "      <td>69.4645</td>\n",
       "      <td>69.5129</td>\n",
       "      <td>69.6496</td>\n",
       "      <td>69.7095</td>\n",
       "      <td>69.7948</td>\n",
       "      <td>69.8769</td>\n",
       "      <td>70.2995</td>\n",
       "      <td>70.4490</td>\n",
       "    </tr>\n",
       "    <tr>\n",
       "      <th>190</th>\n",
       "      <td>WSM</td>\n",
       "      <td>Samoa</td>\n",
       "      <td>Oceania</td>\n",
       "      <td>Southern Hemisphere</td>\n",
       "      <td>High</td>\n",
       "      <td>EAP</td>\n",
       "      <td>111.0</td>\n",
       "      <td>67.6584</td>\n",
       "      <td>67.8814</td>\n",
       "      <td>68.3855</td>\n",
       "      <td>...</td>\n",
       "      <td>72.1668</td>\n",
       "      <td>72.3915</td>\n",
       "      <td>72.4628</td>\n",
       "      <td>72.5146</td>\n",
       "      <td>72.5397</td>\n",
       "      <td>72.5900</td>\n",
       "      <td>72.6358</td>\n",
       "      <td>72.1572</td>\n",
       "      <td>72.7677</td>\n",
       "      <td>72.7675</td>\n",
       "    </tr>\n",
       "    <tr>\n",
       "      <th>191</th>\n",
       "      <td>YEM</td>\n",
       "      <td>Yemen</td>\n",
       "      <td>Asia</td>\n",
       "      <td>Northern Hemisphere</td>\n",
       "      <td>Low</td>\n",
       "      <td>AS</td>\n",
       "      <td>183.0</td>\n",
       "      <td>58.6994</td>\n",
       "      <td>59.0490</td>\n",
       "      <td>59.4283</td>\n",
       "      <td>...</td>\n",
       "      <td>67.3429</td>\n",
       "      <td>67.5451</td>\n",
       "      <td>67.3842</td>\n",
       "      <td>65.8734</td>\n",
       "      <td>66.0641</td>\n",
       "      <td>65.9573</td>\n",
       "      <td>64.5751</td>\n",
       "      <td>65.0917</td>\n",
       "      <td>64.6501</td>\n",
       "      <td>63.7534</td>\n",
       "    </tr>\n",
       "    <tr>\n",
       "      <th>192</th>\n",
       "      <td>ZAF</td>\n",
       "      <td>South Africa</td>\n",
       "      <td>Africa</td>\n",
       "      <td>Southern Hemisphere</td>\n",
       "      <td>High</td>\n",
       "      <td>SSA</td>\n",
       "      <td>109.0</td>\n",
       "      <td>63.3753</td>\n",
       "      <td>63.2649</td>\n",
       "      <td>63.3414</td>\n",
       "      <td>...</td>\n",
       "      <td>61.8457</td>\n",
       "      <td>62.5331</td>\n",
       "      <td>63.3796</td>\n",
       "      <td>63.9499</td>\n",
       "      <td>64.7469</td>\n",
       "      <td>65.4020</td>\n",
       "      <td>65.6743</td>\n",
       "      <td>66.1750</td>\n",
       "      <td>65.2522</td>\n",
       "      <td>62.3410</td>\n",
       "    </tr>\n",
       "    <tr>\n",
       "      <th>193</th>\n",
       "      <td>ZMB</td>\n",
       "      <td>Zambia</td>\n",
       "      <td>Africa</td>\n",
       "      <td>Southern Hemisphere</td>\n",
       "      <td>Medium</td>\n",
       "      <td>SSA</td>\n",
       "      <td>154.0</td>\n",
       "      <td>47.9263</td>\n",
       "      <td>47.0971</td>\n",
       "      <td>46.5119</td>\n",
       "      <td>...</td>\n",
       "      <td>58.8672</td>\n",
       "      <td>59.8777</td>\n",
       "      <td>60.6990</td>\n",
       "      <td>61.2078</td>\n",
       "      <td>61.7937</td>\n",
       "      <td>62.1201</td>\n",
       "      <td>62.3422</td>\n",
       "      <td>62.7926</td>\n",
       "      <td>62.3803</td>\n",
       "      <td>61.2234</td>\n",
       "    </tr>\n",
       "    <tr>\n",
       "      <th>194</th>\n",
       "      <td>ZWE</td>\n",
       "      <td>Zimbabwe</td>\n",
       "      <td>Africa</td>\n",
       "      <td>Southern Hemisphere</td>\n",
       "      <td>Medium</td>\n",
       "      <td>SSA</td>\n",
       "      <td>146.0</td>\n",
       "      <td>59.4264</td>\n",
       "      <td>58.0911</td>\n",
       "      <td>56.4354</td>\n",
       "      <td>...</td>\n",
       "      <td>55.6263</td>\n",
       "      <td>57.4577</td>\n",
       "      <td>58.8460</td>\n",
       "      <td>59.5911</td>\n",
       "      <td>60.3059</td>\n",
       "      <td>60.7095</td>\n",
       "      <td>61.4141</td>\n",
       "      <td>61.2925</td>\n",
       "      <td>61.1242</td>\n",
       "      <td>59.2531</td>\n",
       "    </tr>\n",
       "  </tbody>\n",
       "</table>\n",
       "<p>10 rows × 39 columns</p>\n",
       "</div>"
      ],
      "text/plain": [
       "    ISO3                           Country Continent           Hemisphere  \\\n",
       "185  UZB                        Uzbekistan      Asia  Northern Hemisphere   \n",
       "186  VCT  Saint Vincent and the Grenadines   America  Northern Hemisphere   \n",
       "187  VEN                         Venezuela   America  Northern Hemisphere   \n",
       "188  VNM                          Viet Nam      Asia  Northern Hemisphere   \n",
       "189  VUT                           Vanuatu   Oceania  Southern Hemisphere   \n",
       "190  WSM                             Samoa   Oceania  Southern Hemisphere   \n",
       "191  YEM                             Yemen      Asia  Northern Hemisphere   \n",
       "192  ZAF                      South Africa    Africa  Southern Hemisphere   \n",
       "193  ZMB                            Zambia    Africa  Southern Hemisphere   \n",
       "194  ZWE                          Zimbabwe    Africa  Southern Hemisphere   \n",
       "\n",
       "    Human Development Groups UNDP Developing Regions  HDI Rank (2021)  \\\n",
       "185                     High                     ECA            101.0   \n",
       "186                     High                     LAC             89.0   \n",
       "187                   Medium                     LAC            120.0   \n",
       "188                     High                     EAP            115.0   \n",
       "189                   Medium                     EAP            140.0   \n",
       "190                     High                     EAP            111.0   \n",
       "191                      Low                      AS            183.0   \n",
       "192                     High                     SSA            109.0   \n",
       "193                   Medium                     SSA            154.0   \n",
       "194                   Medium                     SSA            146.0   \n",
       "\n",
       "     Life Expectancy at Birth (1990)  Life Expectancy at Birth (1991)  \\\n",
       "185                          65.3456                          65.1307   \n",
       "186                          72.3797                          72.9368   \n",
       "187                          71.5319                          71.8318   \n",
       "188                          69.2127                          69.8490   \n",
       "189                          66.6747                          67.2031   \n",
       "190                          67.6584                          67.8814   \n",
       "191                          58.6994                          59.0490   \n",
       "192                          63.3753                          63.2649   \n",
       "193                          47.9263                          47.0971   \n",
       "194                          59.4264                          58.0911   \n",
       "\n",
       "     Life Expectancy at Birth (1992)  ...  Life Expectancy at Birth (2012)  \\\n",
       "185                          65.1091  ...                          69.8742   \n",
       "186                          72.6238  ...                          74.1463   \n",
       "187                          71.8060  ...                          73.0364   \n",
       "188                          69.9579  ...                          73.7044   \n",
       "189                          67.3535  ...                          69.4972   \n",
       "190                          68.3855  ...                          72.1668   \n",
       "191                          59.4283  ...                          67.3429   \n",
       "192                          63.3414  ...                          61.8457   \n",
       "193                          46.5119  ...                          58.8672   \n",
       "194                          56.4354  ...                          55.6263   \n",
       "\n",
       "     Life Expectancy at Birth (2013)  Life Expectancy at Birth (2014)  \\\n",
       "185                          69.9895                          70.2343   \n",
       "186                          73.7976                          74.4730   \n",
       "187                          73.1962                          72.8533   \n",
       "188                          73.7755                          73.8545   \n",
       "189                          69.5342                          69.4645   \n",
       "190                          72.3915                          72.4628   \n",
       "191                          67.5451                          67.3842   \n",
       "192                          62.5331                          63.3796   \n",
       "193                          59.8777                          60.6990   \n",
       "194                          57.4577                          58.8460   \n",
       "\n",
       "     Life Expectancy at Birth (2015)  Life Expectancy at Birth (2016)  \\\n",
       "185                          70.4753                          70.7548   \n",
       "186                          74.4071                          74.2799   \n",
       "187                          73.0064                          72.0578   \n",
       "188                          73.8763                          73.9382   \n",
       "189                          69.5129                          69.6496   \n",
       "190                          72.5146                          72.5397   \n",
       "191                          65.8734                          66.0641   \n",
       "192                          63.9499                          64.7469   \n",
       "193                          61.2078                          61.7937   \n",
       "194                          59.5911                          60.3059   \n",
       "\n",
       "     Life Expectancy at Birth (2017)  Life Expectancy at Birth (2018)  \\\n",
       "185                          71.0095                          71.1494   \n",
       "186                          74.3052                          74.1279   \n",
       "187                          71.9430                          71.9788   \n",
       "188                          73.9632                          73.9757   \n",
       "189                          69.7095                          69.7948   \n",
       "190                          72.5900                          72.6358   \n",
       "191                          65.9573                          64.5751   \n",
       "192                          65.4020                          65.6743   \n",
       "193                          62.1201                          62.3422   \n",
       "194                          60.7095                          61.4141   \n",
       "\n",
       "     Life Expectancy at Birth (2019)  Life Expectancy at Birth (2020)  \\\n",
       "185                          71.3441                          70.3309   \n",
       "186                          72.8347                          72.1256   \n",
       "187                          72.1614                          71.0949   \n",
       "188                          74.0929                          75.3779   \n",
       "189                          69.8769                          70.2995   \n",
       "190                          72.1572                          72.7677   \n",
       "191                          65.0917                          64.6501   \n",
       "192                          66.1750                          65.2522   \n",
       "193                          62.7926                          62.3803   \n",
       "194                          61.2925                          61.1242   \n",
       "\n",
       "     Life Expectancy at Birth (2021)  \n",
       "185                          70.8616  \n",
       "186                          69.6291  \n",
       "187                          70.5536  \n",
       "188                          73.6181  \n",
       "189                          70.4490  \n",
       "190                          72.7675  \n",
       "191                          63.7534  \n",
       "192                          62.3410  \n",
       "193                          61.2234  \n",
       "194                          59.2531  \n",
       "\n",
       "[10 rows x 39 columns]"
      ]
     },
     "execution_count": 7,
     "metadata": {},
     "output_type": "execute_result"
    }
   ],
   "source": [
    "# how about the last 10 rows\n",
    "df.tail(10)"
   ]
  },
  {
   "cell_type": "code",
   "execution_count": 8,
   "metadata": {},
   "outputs": [
    {
     "data": {
      "text/plain": [
       "Human Development Groups     4\n",
       "UNDP Developing Regions     44\n",
       "HDI Rank (2021)              4\n",
       "dtype: int64"
      ]
     },
     "execution_count": 8,
     "metadata": {},
     "output_type": "execute_result"
    }
   ],
   "source": [
    "# isnull().sum() will sum the number of missing values by columns\n",
    "df_count_of_missval_by_col = (df.isnull().sum())\n",
    "df_count_of_missval_by_col\n",
    "\n",
    "# below code will display only the columns with missing values (in absolute number of rows)\n",
    "df_count_of_missval_by_col[df_count_of_missval_by_col > 0]"
   ]
  },
  {
   "cell_type": "code",
   "execution_count": 9,
   "metadata": {},
   "outputs": [
    {
     "data": {
      "text/html": [
       "<div>\n",
       "<style scoped>\n",
       "    .dataframe tbody tr th:only-of-type {\n",
       "        vertical-align: middle;\n",
       "    }\n",
       "\n",
       "    .dataframe tbody tr th {\n",
       "        vertical-align: top;\n",
       "    }\n",
       "\n",
       "    .dataframe thead th {\n",
       "        text-align: right;\n",
       "    }\n",
       "</style>\n",
       "<table border=\"1\" class=\"dataframe\">\n",
       "  <thead>\n",
       "    <tr style=\"text-align: right;\">\n",
       "      <th></th>\n",
       "      <th>ISO3</th>\n",
       "      <th>Country</th>\n",
       "      <th>Continent</th>\n",
       "      <th>Hemisphere</th>\n",
       "      <th>Human Development Groups</th>\n",
       "      <th>UNDP Developing Regions</th>\n",
       "      <th>HDI Rank (2021)</th>\n",
       "      <th>Life Expectancy at Birth (1990)</th>\n",
       "      <th>Life Expectancy at Birth (1991)</th>\n",
       "      <th>Life Expectancy at Birth (1992)</th>\n",
       "      <th>...</th>\n",
       "      <th>Life Expectancy at Birth (2012)</th>\n",
       "      <th>Life Expectancy at Birth (2013)</th>\n",
       "      <th>Life Expectancy at Birth (2014)</th>\n",
       "      <th>Life Expectancy at Birth (2015)</th>\n",
       "      <th>Life Expectancy at Birth (2016)</th>\n",
       "      <th>Life Expectancy at Birth (2017)</th>\n",
       "      <th>Life Expectancy at Birth (2018)</th>\n",
       "      <th>Life Expectancy at Birth (2019)</th>\n",
       "      <th>Life Expectancy at Birth (2020)</th>\n",
       "      <th>Life Expectancy at Birth (2021)</th>\n",
       "    </tr>\n",
       "  </thead>\n",
       "  <tbody>\n",
       "    <tr>\n",
       "      <th>138</th>\n",
       "      <td>PHL</td>\n",
       "      <td>Philippines</td>\n",
       "      <td>Asia</td>\n",
       "      <td>Northern Hemisphere</td>\n",
       "      <td>Medium</td>\n",
       "      <td>EAP</td>\n",
       "      <td>116.0</td>\n",
       "      <td>65.9093</td>\n",
       "      <td>66.304</td>\n",
       "      <td>67.0877</td>\n",
       "      <td>...</td>\n",
       "      <td>70.8813</td>\n",
       "      <td>70.8349</td>\n",
       "      <td>71.151</td>\n",
       "      <td>71.2684</td>\n",
       "      <td>71.3871</td>\n",
       "      <td>71.5156</td>\n",
       "      <td>71.689</td>\n",
       "      <td>71.8649</td>\n",
       "      <td>72.1191</td>\n",
       "      <td>69.2664</td>\n",
       "    </tr>\n",
       "  </tbody>\n",
       "</table>\n",
       "<p>1 rows × 39 columns</p>\n",
       "</div>"
      ],
      "text/plain": [
       "    ISO3      Country Continent           Hemisphere Human Development Groups  \\\n",
       "138  PHL  Philippines      Asia  Northern Hemisphere                   Medium   \n",
       "\n",
       "    UNDP Developing Regions  HDI Rank (2021)  Life Expectancy at Birth (1990)  \\\n",
       "138                     EAP            116.0                          65.9093   \n",
       "\n",
       "     Life Expectancy at Birth (1991)  Life Expectancy at Birth (1992)  ...  \\\n",
       "138                           66.304                          67.0877  ...   \n",
       "\n",
       "     Life Expectancy at Birth (2012)  Life Expectancy at Birth (2013)  \\\n",
       "138                          70.8813                          70.8349   \n",
       "\n",
       "     Life Expectancy at Birth (2014)  Life Expectancy at Birth (2015)  \\\n",
       "138                           71.151                          71.2684   \n",
       "\n",
       "     Life Expectancy at Birth (2016)  Life Expectancy at Birth (2017)  \\\n",
       "138                          71.3871                          71.5156   \n",
       "\n",
       "     Life Expectancy at Birth (2018)  Life Expectancy at Birth (2019)  \\\n",
       "138                           71.689                          71.8649   \n",
       "\n",
       "     Life Expectancy at Birth (2020)  Life Expectancy at Birth (2021)  \n",
       "138                          72.1191                          69.2664  \n",
       "\n",
       "[1 rows x 39 columns]"
      ]
     },
     "execution_count": 9,
     "metadata": {},
     "output_type": "execute_result"
    }
   ],
   "source": [
    "# see the data that was assigned to the philippines\n",
    "df[df['Country'] == 'Philippines']"
   ]
  },
  {
   "cell_type": "markdown",
   "metadata": {},
   "source": [
    "## Visualization of the Life Expectancy in the Philppines"
   ]
  },
  {
   "cell_type": "code",
   "execution_count": 10,
   "metadata": {},
   "outputs": [
    {
     "data": {
      "image/png": "[encoded data removed]",
      "text/plain": [
       "<Figure size 1000x600 with 1 Axes>"
      ]
     },
     "metadata": {},
     "output_type": "display_data"
    }
   ],
   "source": [
    "# Filter data for the Philippines\n",
    "philippines_data = df[df['Country'] == 'Philippines']\n",
    "\n",
    "# Get only the numeric year columns for melting\n",
    "year_columns = philippines_data.columns[philippines_data.columns.str.startswith('Life Expectancy')]\n",
    "\n",
    "# Melt the DataFrame to reshape the life expectancy columns\n",
    "melted_data = philippines_data.melt(id_vars=['Country'], value_vars=year_columns, var_name='Year', value_name='Life Expectancy')\n",
    "\n",
    "# Extract the numeric year from the 'Year' column\n",
    "melted_data['Year'] = melted_data['Year'].str.extract(r'(\\d+)').astype(int)\n",
    "\n",
    "# Create a line plot using seaborn\n",
    "plt.figure(figsize=(10, 6))  # Adjust the figure size as needed\n",
    "\n",
    "# Plot life expectancy data for the Philippines\n",
    "sns.lineplot(data=melted_data, x='Year', y='Life Expectancy')\n",
    "\n",
    "plt.title('Life Expectancy at Birth in the Philippines (1990-2021)')\n",
    "plt.xlabel('Year')\n",
    "plt.ylabel('Life Expectancy')\n",
    "plt.tight_layout()  # Ensure labels are not cut off\n",
    "plt.show()"
   ]
  },
  {
   "cell_type": "markdown",
   "metadata": {},
   "source": [
    "## Comapring the life expectancy of the Philippines to other ASEAN Countries"
   ]
  },
  {
   "cell_type": "code",
   "execution_count": 11,
   "metadata": {},
   "outputs": [
    {
     "data": {
      "image/png": "[encoded data removed]",
      "text/plain": [
       "<Figure size 1000x600 with 1 Axes>"
      ]
     },
     "metadata": {},
     "output_type": "display_data"
    }
   ],
   "source": [
    "# Brunei, Cambodia, Indonesia, Laos, Malaysia, Myanmar, the Philippines, Singapore, Thailand, and Vietnam. \n",
    "countries_of_interest = ['Brunei', 'Cambodia', 'Indonesia', 'Laos', 'Malaysia', 'Myanmar', 'Philippines', 'Singapore', 'Thailand', 'Vietnam']\n",
    "\n",
    "selected_countries = df[df['Country'].isin(countries_of_interest)]\n",
    "\n",
    "life_expectancy_columns = df.columns[8:]\n",
    "\n",
    "# Unstack the DataFrame\n",
    "unstacked_df = selected_countries.melt(id_vars=['Country'], value_vars=life_expectancy_columns, \n",
    "                                       var_name='Year', value_name='Life Expectancy')\n",
    "\n",
    "unstacked_df['Year'] = unstacked_df['Year'].str.extract('(\\d+)').astype(int)\n",
    "\n",
    "plt.figure(figsize=(10, 6))\n",
    "for country in countries_of_interest:\n",
    "    country_data = unstacked_df[unstacked_df['Country'] == country]\n",
    "    plt.plot(country_data['Year'], country_data['Life Expectancy'], marker='o', label=country)\n",
    "\n",
    "plt.xlabel('Year')\n",
    "plt.ylabel('Life Expectancy at Birth')\n",
    "plt.title('Life Expectancy at Birth by Country (1990-2021)')\n",
    "plt.legend()\n",
    "plt.tight_layout()\n",
    "\n",
    "plt.show()"
   ]
  },
  {
   "cell_type": "code",
   "execution_count": 12,
   "metadata": {},
   "outputs": [],
   "source": [
    "import plotly.express as px"
   ]
  },
  {
   "cell_type": "markdown",
   "metadata": {},
   "source": [
    "## Timelapse of the Life Expectancy in ASEAN Countries"
   ]
  },
  {
   "cell_type": "code",
   "execution_count": 39,
   "metadata": {},
   "outputs": [
    {
     "data": {
      "application/vnd.plotly.v1+json": {
       "config": {
        "plotlyServerURL": "https://plot.ly"
       },
       "data": [
        {
         "coloraxis": "coloraxis",
         "customdata": [
          [
           "Asia",
           "Life Expectancy at Birth (1990)"
          ],
          [
           "Asia",
           "Life Expectancy at Birth (1990)"
          ],
          [
           "Asia",
           "Life Expectancy at Birth (1990)"
          ],
          [
           "Asia",
           "Life Expectancy at Birth (1990)"
          ],
          [
           "Asia",
           "Life Expectancy at Birth (1990)"
          ],
          [
           "Asia",
           "Life Expectancy at Birth (1990)"
          ],
          [
           "Asia",
           "Life Expectancy at Birth (1990)"
          ],
          [
           "Asia",
           "Life Expectancy at Birth (1990)"
          ],
          [
           "Asia",
           "Life Expectancy at Birth (1990)"
          ],
          [
           "Asia",
           "Life Expectancy at Birth (1990)"
          ]
         ],
         "geo": "geo",
         "hovertemplate": "<b>%{hovertext}</b><br><br>Year=%{customdata[1]}<br>ISO3=%{location}<br>Continent=%{customdata[0]}<br>Life Expectancy=%{z}<extra></extra>",
         "hovertext": [
          "Brunei",
          "Indonesia",
          "Cambodia",
          "Lao",
          "Myanmar",
          "Malaysia",
          "Philippines",
          "Singapore",
          "Thailand",
          "Viet Nam"
         ],
         "locations": [
          "BRN",
          "IDN",
          "KHM",
          "LAO",
          "MMR",
          "MYS",
          "PHL",
          "SGP",
          "THA",
          "VNM"
         ],
         "name": "",
         "type": "choropleth",
         "z": [
          71.6563,
          63.1807,
          55.4341,
          53.7128,
          56.6607,
          71.3071,
          65.9093,
          74.9444,
          70.4449,
          69.2127
         ]
        }
       ],
       "frames": [
        {
         "data": [
          {
           "coloraxis": "coloraxis",
           "customdata": [
            [
             "Asia",
             "Life Expectancy at Birth (1990)"
            ],
            [
             "Asia",
             "Life Expectancy at Birth (1990)"
            ],
            [
             "Asia",
             "Life Expectancy at Birth (1990)"
            ],
            [
             "Asia",
             "Life Expectancy at Birth (1990)"
            ],
            [
             "Asia",
             "Life Expectancy at Birth (1990)"
            ],
            [
             "Asia",
             "Life Expectancy at Birth (1990)"
            ],
            [
             "Asia",
             "Life Expectancy at Birth (1990)"
            ],
            [
             "Asia",
             "Life Expectancy at Birth (1990)"
            ],
            [
             "Asia",
             "Life Expectancy at Birth (1990)"
            ],
            [
             "Asia",
             "Life Expectancy at Birth (1990)"
            ]
           ],
           "geo": "geo",
           "hovertemplate": "<b>%{hovertext}</b><br><br>Year=%{customdata[1]}<br>ISO3=%{location}<br>Continent=%{customdata[0]}<br>Life Expectancy=%{z}<extra></extra>",
           "hovertext": [
            "Brunei",
            "Indonesia",
            "Cambodia",
            "Lao",
            "Myanmar",
            "Malaysia",
            "Philippines",
            "Singapore",
            "Thailand",
            "Viet Nam"
           ],
           "locations": [
            "BRN",
            "IDN",
            "KHM",
            "LAO",
            "MMR",
            "MYS",
            "PHL",
            "SGP",
            "THA",
            "VNM"
           ],
           "name": "",
           "type": "choropleth",
           "z": [
            71.6563,
            63.1807,
            55.4341,
            53.7128,
            56.6607,
            71.3071,
            65.9093,
            74.9444,
            70.4449,
            69.2127
           ]
          }
         ],
         "name": "Life Expectancy at Birth (1990)"
        },
        {
         "data": [
          {
           "coloraxis": "coloraxis",
           "customdata": [
            [
             "Asia",
             "Life Expectancy at Birth (1991)"
            ],
            [
             "Asia",
             "Life Expectancy at Birth (1991)"
            ],
            [
             "Asia",
             "Life Expectancy at Birth (1991)"
            ],
            [
             "Asia",
             "Life Expectancy at Birth (1991)"
            ],
            [
             "Asia",
             "Life Expectancy at Birth (1991)"
            ],
            [
             "Asia",
             "Life Expectancy at Birth (1991)"
            ],
            [
             "Asia",
             "Life Expectancy at Birth (1991)"
            ],
            [
             "Asia",
             "Life Expectancy at Birth (1991)"
            ],
            [
             "Asia",
             "Life Expectancy at Birth (1991)"
            ],
            [
             "Asia",
             "Life Expectancy at Birth (1991)"
            ]
           ],
           "geo": "geo",
           "hovertemplate": "<b>%{hovertext}</b><br><br>Year=%{customdata[1]}<br>ISO3=%{location}<br>Continent=%{customdata[0]}<br>Life Expectancy=%{z}<extra></extra>",
           "hovertext": [
            "Brunei",
            "Indonesia",
            "Cambodia",
            "Lao",
            "Myanmar",
            "Malaysia",
            "Philippines",
            "Singapore",
            "Thailand",
            "Viet Nam"
           ],
           "locations": [
            "BRN",
            "IDN",
            "KHM",
            "LAO",
            "MMR",
            "MYS",
            "PHL",
            "SGP",
            "THA",
            "VNM"
           ],
           "name": "",
           "type": "choropleth",
           "z": [
            71.8711,
            63.5371,
            55.7927,
            54.4604,
            57.0135,
            71.4417,
            66.304,
            75.3289,
            70.7168,
            69.849
           ]
          }
         ],
         "name": "Life Expectancy at Birth (1991)"
        },
        {
         "data": [
          {
           "coloraxis": "coloraxis",
           "customdata": [
            [
             "Asia",
             "Life Expectancy at Birth (1992)"
            ],
            [
             "Asia",
             "Life Expectancy at Birth (1992)"
            ],
            [
             "Asia",
             "Life Expectancy at Birth (1992)"
            ],
            [
             "Asia",
             "Life Expectancy at Birth (1992)"
            ],
            [
             "Asia",
             "Life Expectancy at Birth (1992)"
            ],
            [
             "Asia",
             "Life Expectancy at Birth (1992)"
            ],
            [
             "Asia",
             "Life Expectancy at Birth (1992)"
            ],
            [
             "Asia",
             "Life Expectancy at Birth (1992)"
            ],
            [
             "Asia",
             "Life Expectancy at Birth (1992)"
            ],
            [
             "Asia",
             "Life Expectancy at Birth (1992)"
            ]
           ],
           "geo": "geo",
           "hovertemplate": "<b>%{hovertext}</b><br><br>Year=%{customdata[1]}<br>ISO3=%{location}<br>Continent=%{customdata[0]}<br>Life Expectancy=%{z}<extra></extra>",
           "hovertext": [
            "Brunei",
            "Indonesia",
            "Cambodia",
            "Lao",
            "Myanmar",
            "Malaysia",
            "Philippines",
            "Singapore",
            "Thailand",
            "Viet Nam"
           ],
           "locations": [
            "BRN",
            "IDN",
            "KHM",
            "LAO",
            "MMR",
            "MYS",
            "PHL",
            "SGP",
            "THA",
            "VNM"
           ],
           "name": "",
           "type": "choropleth",
           "z": [
            72.0808,
            64.1264,
            56.0214,
            54.9521,
            57.2511,
            71.5257,
            67.0877,
            75.6009,
            70.8853,
            69.9579
           ]
          }
         ],
         "name": "Life Expectancy at Birth (1992)"
        },
        {
         "data": [
          {
           "coloraxis": "coloraxis",
           "customdata": [
            [
             "Asia",
             "Life Expectancy at Birth (1993)"
            ],
            [
             "Asia",
             "Life Expectancy at Birth (1993)"
            ],
            [
             "Asia",
             "Life Expectancy at Birth (1993)"
            ],
            [
             "Asia",
             "Life Expectancy at Birth (1993)"
            ],
            [
             "Asia",
             "Life Expectancy at Birth (1993)"
            ],
            [
             "Asia",
             "Life Expectancy at Birth (1993)"
            ],
            [
             "Asia",
             "Life Expectancy at Birth (1993)"
            ],
            [
             "Asia",
             "Life Expectancy at Birth (1993)"
            ],
            [
             "Asia",
             "Life Expectancy at Birth (1993)"
            ],
            [
             "Asia",
             "Life Expectancy at Birth (1993)"
            ]
           ],
           "geo": "geo",
           "hovertemplate": "<b>%{hovertext}</b><br><br>Year=%{customdata[1]}<br>ISO3=%{location}<br>Continent=%{customdata[0]}<br>Life Expectancy=%{z}<extra></extra>",
           "hovertext": [
            "Brunei",
            "Indonesia",
            "Cambodia",
            "Lao",
            "Myanmar",
            "Malaysia",
            "Philippines",
            "Singapore",
            "Thailand",
            "Viet Nam"
           ],
           "locations": [
            "BRN",
            "IDN",
            "KHM",
            "LAO",
            "MMR",
            "MYS",
            "PHL",
            "SGP",
            "THA",
            "VNM"
           ],
           "name": "",
           "type": "choropleth",
           "z": [
            72.3118,
            64.5981,
            56.0803,
            55.4349,
            57.6313,
            71.8256,
            67.5417,
            75.8015,
            71.0678,
            70.6212
           ]
          }
         ],
         "name": "Life Expectancy at Birth (1993)"
        },
        {
         "data": [
          {
           "coloraxis": "coloraxis",
           "customdata": [
            [
             "Asia",
             "Life Expectancy at Birth (1994)"
            ],
            [
             "Asia",
             "Life Expectancy at Birth (1994)"
            ],
            [
             "Asia",
             "Life Expectancy at Birth (1994)"
            ],
            [
             "Asia",
             "Life Expectancy at Birth (1994)"
            ],
            [
             "Asia",
             "Life Expectancy at Birth (1994)"
            ],
            [
             "Asia",
             "Life Expectancy at Birth (1994)"
            ],
            [
             "Asia",
             "Life Expectancy at Birth (1994)"
            ],
            [
             "Asia",
             "Life Expectancy at Birth (1994)"
            ],
            [
             "Asia",
             "Life Expectancy at Birth (1994)"
            ],
            [
             "Asia",
             "Life Expectancy at Birth (1994)"
            ]
           ],
           "geo": "geo",
           "hovertemplate": "<b>%{hovertext}</b><br><br>Year=%{customdata[1]}<br>ISO3=%{location}<br>Continent=%{customdata[0]}<br>Life Expectancy=%{z}<extra></extra>",
           "hovertext": [
            "Brunei",
            "Indonesia",
            "Cambodia",
            "Lao",
            "Myanmar",
            "Malaysia",
            "Philippines",
            "Singapore",
            "Thailand",
            "Viet Nam"
           ],
           "locations": [
            "BRN",
            "IDN",
            "KHM",
            "LAO",
            "MMR",
            "MYS",
            "PHL",
            "SGP",
            "THA",
            "VNM"
           ],
           "name": "",
           "type": "choropleth",
           "z": [
            72.5529,
            64.8562,
            56.0355,
            55.7495,
            57.9564,
            72.1627,
            67.9422,
            75.8847,
            71.2265,
            70.7587
           ]
          }
         ],
         "name": "Life Expectancy at Birth (1994)"
        },
        {
         "data": [
          {
           "coloraxis": "coloraxis",
           "customdata": [
            [
             "Asia",
             "Life Expectancy at Birth (1995)"
            ],
            [
             "Asia",
             "Life Expectancy at Birth (1995)"
            ],
            [
             "Asia",
             "Life Expectancy at Birth (1995)"
            ],
            [
             "Asia",
             "Life Expectancy at Birth (1995)"
            ],
            [
             "Asia",
             "Life Expectancy at Birth (1995)"
            ],
            [
             "Asia",
             "Life Expectancy at Birth (1995)"
            ],
            [
             "Asia",
             "Life Expectancy at Birth (1995)"
            ],
            [
             "Asia",
             "Life Expectancy at Birth (1995)"
            ],
            [
             "Asia",
             "Life Expectancy at Birth (1995)"
            ],
            [
             "Asia",
             "Life Expectancy at Birth (1995)"
            ]
           ],
           "geo": "geo",
           "hovertemplate": "<b>%{hovertext}</b><br><br>Year=%{customdata[1]}<br>ISO3=%{location}<br>Continent=%{customdata[0]}<br>Life Expectancy=%{z}<extra></extra>",
           "hovertext": [
            "Brunei",
            "Indonesia",
            "Cambodia",
            "Lao",
            "Myanmar",
            "Malaysia",
            "Philippines",
            "Singapore",
            "Thailand",
            "Viet Nam"
           ],
           "locations": [
            "BRN",
            "IDN",
            "KHM",
            "LAO",
            "MMR",
            "MYS",
            "PHL",
            "SGP",
            "THA",
            "VNM"
           ],
           "name": "",
           "type": "choropleth",
           "z": [
            72.8161,
            65.2375,
            56.3076,
            56.3851,
            58.259,
            72.3838,
            68.2231,
            75.9757,
            70.9475,
            71.3837
           ]
          }
         ],
         "name": "Life Expectancy at Birth (1995)"
        },
        {
         "data": [
          {
           "coloraxis": "coloraxis",
           "customdata": [
            [
             "Asia",
             "Life Expectancy at Birth (1996)"
            ],
            [
             "Asia",
             "Life Expectancy at Birth (1996)"
            ],
            [
             "Asia",
             "Life Expectancy at Birth (1996)"
            ],
            [
             "Asia",
             "Life Expectancy at Birth (1996)"
            ],
            [
             "Asia",
             "Life Expectancy at Birth (1996)"
            ],
            [
             "Asia",
             "Life Expectancy at Birth (1996)"
            ],
            [
             "Asia",
             "Life Expectancy at Birth (1996)"
            ],
            [
             "Asia",
             "Life Expectancy at Birth (1996)"
            ],
            [
             "Asia",
             "Life Expectancy at Birth (1996)"
            ],
            [
             "Asia",
             "Life Expectancy at Birth (1996)"
            ]
           ],
           "geo": "geo",
           "hovertemplate": "<b>%{hovertext}</b><br><br>Year=%{customdata[1]}<br>ISO3=%{location}<br>Continent=%{customdata[0]}<br>Life Expectancy=%{z}<extra></extra>",
           "hovertext": [
            "Brunei",
            "Indonesia",
            "Cambodia",
            "Lao",
            "Myanmar",
            "Malaysia",
            "Philippines",
            "Singapore",
            "Thailand",
            "Viet Nam"
           ],
           "locations": [
            "BRN",
            "IDN",
            "KHM",
            "LAO",
            "MMR",
            "MYS",
            "PHL",
            "SGP",
            "THA",
            "VNM"
           ],
           "name": "",
           "type": "choropleth",
           "z": [
            73.0996,
            65.355,
            56.3458,
            56.8905,
            58.9408,
            72.3266,
            68.6139,
            76.5357,
            71.6525,
            71.5098
           ]
          }
         ],
         "name": "Life Expectancy at Birth (1996)"
        },
        {
         "data": [
          {
           "coloraxis": "coloraxis",
           "customdata": [
            [
             "Asia",
             "Life Expectancy at Birth (1997)"
            ],
            [
             "Asia",
             "Life Expectancy at Birth (1997)"
            ],
            [
             "Asia",
             "Life Expectancy at Birth (1997)"
            ],
            [
             "Asia",
             "Life Expectancy at Birth (1997)"
            ],
            [
             "Asia",
             "Life Expectancy at Birth (1997)"
            ],
            [
             "Asia",
             "Life Expectancy at Birth (1997)"
            ],
            [
             "Asia",
             "Life Expectancy at Birth (1997)"
            ],
            [
             "Asia",
             "Life Expectancy at Birth (1997)"
            ],
            [
             "Asia",
             "Life Expectancy at Birth (1997)"
            ],
            [
             "Asia",
             "Life Expectancy at Birth (1997)"
            ]
           ],
           "geo": "geo",
           "hovertemplate": "<b>%{hovertext}</b><br><br>Year=%{customdata[1]}<br>ISO3=%{location}<br>Continent=%{customdata[0]}<br>Life Expectancy=%{z}<extra></extra>",
           "hovertext": [
            "Brunei",
            "Indonesia",
            "Cambodia",
            "Lao",
            "Myanmar",
            "Malaysia",
            "Philippines",
            "Singapore",
            "Thailand",
            "Viet Nam"
           ],
           "locations": [
            "BRN",
            "IDN",
            "KHM",
            "LAO",
            "MMR",
            "MYS",
            "PHL",
            "SGP",
            "THA",
            "VNM"
           ],
           "name": "",
           "type": "choropleth",
           "z": [
            73.364,
            65.7331,
            56.7434,
            57.2917,
            59.2429,
            72.2836,
            68.8841,
            77.2281,
            72.5005,
            71.8017
           ]
          }
         ],
         "name": "Life Expectancy at Birth (1997)"
        },
        {
         "data": [
          {
           "coloraxis": "coloraxis",
           "customdata": [
            [
             "Asia",
             "Life Expectancy at Birth (1998)"
            ],
            [
             "Asia",
             "Life Expectancy at Birth (1998)"
            ],
            [
             "Asia",
             "Life Expectancy at Birth (1998)"
            ],
            [
             "Asia",
             "Life Expectancy at Birth (1998)"
            ],
            [
             "Asia",
             "Life Expectancy at Birth (1998)"
            ],
            [
             "Asia",
             "Life Expectancy at Birth (1998)"
            ],
            [
             "Asia",
             "Life Expectancy at Birth (1998)"
            ],
            [
             "Asia",
             "Life Expectancy at Birth (1998)"
            ],
            [
             "Asia",
             "Life Expectancy at Birth (1998)"
            ],
            [
             "Asia",
             "Life Expectancy at Birth (1998)"
            ]
           ],
           "geo": "geo",
           "hovertemplate": "<b>%{hovertext}</b><br><br>Year=%{customdata[1]}<br>ISO3=%{location}<br>Continent=%{customdata[0]}<br>Life Expectancy=%{z}<extra></extra>",
           "hovertext": [
            "Brunei",
            "Indonesia",
            "Cambodia",
            "Lao",
            "Myanmar",
            "Malaysia",
            "Philippines",
            "Singapore",
            "Thailand",
            "Viet Nam"
           ],
           "locations": [
            "BRN",
            "IDN",
            "KHM",
            "LAO",
            "MMR",
            "MYS",
            "PHL",
            "SGP",
            "THA",
            "VNM"
           ],
           "name": "",
           "type": "choropleth",
           "z": [
            73.6188,
            65.9621,
            57.0275,
            57.6646,
            59.7936,
            72.1684,
            69.0996,
            77.9875,
            72.8623,
            72.1068
           ]
          }
         ],
         "name": "Life Expectancy at Birth (1998)"
        },
        {
         "data": [
          {
           "coloraxis": "coloraxis",
           "customdata": [
            [
             "Asia",
             "Life Expectancy at Birth (1999)"
            ],
            [
             "Asia",
             "Life Expectancy at Birth (1999)"
            ],
            [
             "Asia",
             "Life Expectancy at Birth (1999)"
            ],
            [
             "Asia",
             "Life Expectancy at Birth (1999)"
            ],
            [
             "Asia",
             "Life Expectancy at Birth (1999)"
            ],
            [
             "Asia",
             "Life Expectancy at Birth (1999)"
            ],
            [
             "Asia",
             "Life Expectancy at Birth (1999)"
            ],
            [
             "Asia",
             "Life Expectancy at Birth (1999)"
            ],
            [
             "Asia",
             "Life Expectancy at Birth (1999)"
            ],
            [
             "Asia",
             "Life Expectancy at Birth (1999)"
            ]
           ],
           "geo": "geo",
           "hovertemplate": "<b>%{hovertext}</b><br><br>Year=%{customdata[1]}<br>ISO3=%{location}<br>Continent=%{customdata[0]}<br>Life Expectancy=%{z}<extra></extra>",
           "hovertext": [
            "Brunei",
            "Indonesia",
            "Cambodia",
            "Lao",
            "Myanmar",
            "Malaysia",
            "Philippines",
            "Singapore",
            "Thailand",
            "Viet Nam"
           ],
           "locations": [
            "BRN",
            "IDN",
            "KHM",
            "LAO",
            "MMR",
            "MYS",
            "PHL",
            "SGP",
            "THA",
            "VNM"
           ],
           "name": "",
           "type": "choropleth",
           "z": [
            73.8628,
            66.2206,
            57.69,
            57.8728,
            59.8806,
            72.2828,
            69.2977,
            78.4701,
            72.5419,
            72.3169
           ]
          }
         ],
         "name": "Life Expectancy at Birth (1999)"
        },
        {
         "data": [
          {
           "coloraxis": "coloraxis",
           "customdata": [
            [
             "Asia",
             "Life Expectancy at Birth (2000)"
            ],
            [
             "Asia",
             "Life Expectancy at Birth (2000)"
            ],
            [
             "Asia",
             "Life Expectancy at Birth (2000)"
            ],
            [
             "Asia",
             "Life Expectancy at Birth (2000)"
            ],
            [
             "Asia",
             "Life Expectancy at Birth (2000)"
            ],
            [
             "Asia",
             "Life Expectancy at Birth (2000)"
            ],
            [
             "Asia",
             "Life Expectancy at Birth (2000)"
            ],
            [
             "Asia",
             "Life Expectancy at Birth (2000)"
            ],
            [
             "Asia",
             "Life Expectancy at Birth (2000)"
            ],
            [
             "Asia",
             "Life Expectancy at Birth (2000)"
            ]
           ],
           "geo": "geo",
           "hovertemplate": "<b>%{hovertext}</b><br><br>Year=%{customdata[1]}<br>ISO3=%{location}<br>Continent=%{customdata[0]}<br>Life Expectancy=%{z}<extra></extra>",
           "hovertext": [
            "Brunei",
            "Indonesia",
            "Cambodia",
            "Lao",
            "Myanmar",
            "Malaysia",
            "Philippines",
            "Singapore",
            "Thailand",
            "Viet Nam"
           ],
           "locations": [
            "BRN",
            "IDN",
            "KHM",
            "LAO",
            "MMR",
            "MYS",
            "PHL",
            "SGP",
            "THA",
            "VNM"
           ],
           "name": "",
           "type": "choropleth",
           "z": [
            74.0801,
            66.4334,
            58.6253,
            58.3779,
            60.1546,
            72.7755,
            69.4134,
            79.0691,
            72.3156,
            72.462
           ]
          }
         ],
         "name": "Life Expectancy at Birth (2000)"
        },
        {
         "data": [
          {
           "coloraxis": "coloraxis",
           "customdata": [
            [
             "Asia",
             "Life Expectancy at Birth (2001)"
            ],
            [
             "Asia",
             "Life Expectancy at Birth (2001)"
            ],
            [
             "Asia",
             "Life Expectancy at Birth (2001)"
            ],
            [
             "Asia",
             "Life Expectancy at Birth (2001)"
            ],
            [
             "Asia",
             "Life Expectancy at Birth (2001)"
            ],
            [
             "Asia",
             "Life Expectancy at Birth (2001)"
            ],
            [
             "Asia",
             "Life Expectancy at Birth (2001)"
            ],
            [
             "Asia",
             "Life Expectancy at Birth (2001)"
            ],
            [
             "Asia",
             "Life Expectancy at Birth (2001)"
            ],
            [
             "Asia",
             "Life Expectancy at Birth (2001)"
            ]
           ],
           "geo": "geo",
           "hovertemplate": "<b>%{hovertext}</b><br><br>Year=%{customdata[1]}<br>ISO3=%{location}<br>Continent=%{customdata[0]}<br>Life Expectancy=%{z}<extra></extra>",
           "hovertext": [
            "Brunei",
            "Indonesia",
            "Cambodia",
            "Lao",
            "Myanmar",
            "Malaysia",
            "Philippines",
            "Singapore",
            "Thailand",
            "Viet Nam"
           ],
           "locations": [
            "BRN",
            "IDN",
            "KHM",
            "LAO",
            "MMR",
            "MYS",
            "PHL",
            "SGP",
            "THA",
            "VNM"
           ],
           "name": "",
           "type": "choropleth",
           "z": [
            74.2764,
            66.7577,
            59.9664,
            59.0698,
            60.4159,
            73.3439,
            69.6136,
            79.1863,
            72.6127,
            72.6472
           ]
          }
         ],
         "name": "Life Expectancy at Birth (2001)"
        },
        {
         "data": [
          {
           "coloraxis": "coloraxis",
           "customdata": [
            [
             "Asia",
             "Life Expectancy at Birth (2002)"
            ],
            [
             "Asia",
             "Life Expectancy at Birth (2002)"
            ],
            [
             "Asia",
             "Life Expectancy at Birth (2002)"
            ],
            [
             "Asia",
             "Life Expectancy at Birth (2002)"
            ],
            [
             "Asia",
             "Life Expectancy at Birth (2002)"
            ],
            [
             "Asia",
             "Life Expectancy at Birth (2002)"
            ],
            [
             "Asia",
             "Life Expectancy at Birth (2002)"
            ],
            [
             "Asia",
             "Life Expectancy at Birth (2002)"
            ],
            [
             "Asia",
             "Life Expectancy at Birth (2002)"
            ],
            [
             "Asia",
             "Life Expectancy at Birth (2002)"
            ]
           ],
           "geo": "geo",
           "hovertemplate": "<b>%{hovertext}</b><br><br>Year=%{customdata[1]}<br>ISO3=%{location}<br>Continent=%{customdata[0]}<br>Life Expectancy=%{z}<extra></extra>",
           "hovertext": [
            "Brunei",
            "Indonesia",
            "Cambodia",
            "Lao",
            "Myanmar",
            "Malaysia",
            "Philippines",
            "Singapore",
            "Thailand",
            "Viet Nam"
           ],
           "locations": [
            "BRN",
            "IDN",
            "KHM",
            "LAO",
            "MMR",
            "MYS",
            "PHL",
            "SGP",
            "THA",
            "VNM"
           ],
           "name": "",
           "type": "choropleth",
           "z": [
            74.4256,
            67.1336,
            61.2262,
            59.5342,
            60.7248,
            73.5627,
            69.781,
            79.3025,
            72.9296,
            72.8009
           ]
          }
         ],
         "name": "Life Expectancy at Birth (2002)"
        },
        {
         "data": [
          {
           "coloraxis": "coloraxis",
           "customdata": [
            [
             "Asia",
             "Life Expectancy at Birth (2003)"
            ],
            [
             "Asia",
             "Life Expectancy at Birth (2003)"
            ],
            [
             "Asia",
             "Life Expectancy at Birth (2003)"
            ],
            [
             "Asia",
             "Life Expectancy at Birth (2003)"
            ],
            [
             "Asia",
             "Life Expectancy at Birth (2003)"
            ],
            [
             "Asia",
             "Life Expectancy at Birth (2003)"
            ],
            [
             "Asia",
             "Life Expectancy at Birth (2003)"
            ],
            [
             "Asia",
             "Life Expectancy at Birth (2003)"
            ],
            [
             "Asia",
             "Life Expectancy at Birth (2003)"
            ],
            [
             "Asia",
             "Life Expectancy at Birth (2003)"
            ]
           ],
           "geo": "geo",
           "hovertemplate": "<b>%{hovertext}</b><br><br>Year=%{customdata[1]}<br>ISO3=%{location}<br>Continent=%{customdata[0]}<br>Life Expectancy=%{z}<extra></extra>",
           "hovertext": [
            "Brunei",
            "Indonesia",
            "Cambodia",
            "Lao",
            "Myanmar",
            "Malaysia",
            "Philippines",
            "Singapore",
            "Thailand",
            "Viet Nam"
           ],
           "locations": [
            "BRN",
            "IDN",
            "KHM",
            "LAO",
            "MMR",
            "MYS",
            "PHL",
            "SGP",
            "THA",
            "VNM"
           ],
           "name": "",
           "type": "choropleth",
           "z": [
            74.5605,
            67.4126,
            62.5229,
            60.0314,
            60.9803,
            73.7964,
            69.9242,
            79.3985,
            73.1546,
            72.9803
           ]
          }
         ],
         "name": "Life Expectancy at Birth (2003)"
        },
        {
         "data": [
          {
           "coloraxis": "coloraxis",
           "customdata": [
            [
             "Asia",
             "Life Expectancy at Birth (2004)"
            ],
            [
             "Asia",
             "Life Expectancy at Birth (2004)"
            ],
            [
             "Asia",
             "Life Expectancy at Birth (2004)"
            ],
            [
             "Asia",
             "Life Expectancy at Birth (2004)"
            ],
            [
             "Asia",
             "Life Expectancy at Birth (2004)"
            ],
            [
             "Asia",
             "Life Expectancy at Birth (2004)"
            ],
            [
             "Asia",
             "Life Expectancy at Birth (2004)"
            ],
            [
             "Asia",
             "Life Expectancy at Birth (2004)"
            ],
            [
             "Asia",
             "Life Expectancy at Birth (2004)"
            ],
            [
             "Asia",
             "Life Expectancy at Birth (2004)"
            ]
           ],
           "geo": "geo",
           "hovertemplate": "<b>%{hovertext}</b><br><br>Year=%{customdata[1]}<br>ISO3=%{location}<br>Continent=%{customdata[0]}<br>Life Expectancy=%{z}<extra></extra>",
           "hovertext": [
            "Brunei",
            "Indonesia",
            "Cambodia",
            "Lao",
            "Myanmar",
            "Malaysia",
            "Philippines",
            "Singapore",
            "Thailand",
            "Viet Nam"
           ],
           "locations": [
            "BRN",
            "IDN",
            "KHM",
            "LAO",
            "MMR",
            "MYS",
            "PHL",
            "SGP",
            "THA",
            "VNM"
           ],
           "name": "",
           "type": "choropleth",
           "z": [
            74.6497,
            65.7503,
            63.5524,
            60.2929,
            61.2496,
            73.8985,
            70.0367,
            79.7654,
            73.0797,
            73.135
           ]
          }
         ],
         "name": "Life Expectancy at Birth (2004)"
        },
        {
         "data": [
          {
           "coloraxis": "coloraxis",
           "customdata": [
            [
             "Asia",
             "Life Expectancy at Birth (2005)"
            ],
            [
             "Asia",
             "Life Expectancy at Birth (2005)"
            ],
            [
             "Asia",
             "Life Expectancy at Birth (2005)"
            ],
            [
             "Asia",
             "Life Expectancy at Birth (2005)"
            ],
            [
             "Asia",
             "Life Expectancy at Birth (2005)"
            ],
            [
             "Asia",
             "Life Expectancy at Birth (2005)"
            ],
            [
             "Asia",
             "Life Expectancy at Birth (2005)"
            ],
            [
             "Asia",
             "Life Expectancy at Birth (2005)"
            ],
            [
             "Asia",
             "Life Expectancy at Birth (2005)"
            ],
            [
             "Asia",
             "Life Expectancy at Birth (2005)"
            ]
           ],
           "geo": "geo",
           "hovertemplate": "<b>%{hovertext}</b><br><br>Year=%{customdata[1]}<br>ISO3=%{location}<br>Continent=%{customdata[0]}<br>Life Expectancy=%{z}<extra></extra>",
           "hovertext": [
            "Brunei",
            "Indonesia",
            "Cambodia",
            "Lao",
            "Myanmar",
            "Malaysia",
            "Philippines",
            "Singapore",
            "Thailand",
            "Viet Nam"
           ],
           "locations": [
            "BRN",
            "IDN",
            "KHM",
            "LAO",
            "MMR",
            "MYS",
            "PHL",
            "SGP",
            "THA",
            "VNM"
           ],
           "name": "",
           "type": "choropleth",
           "z": [
            74.7309,
            67.6492,
            64.2933,
            60.9802,
            61.5985,
            74.0959,
            70.2402,
            80.3541,
            73.8202,
            73.2714
           ]
          }
         ],
         "name": "Life Expectancy at Birth (2005)"
        },
        {
         "data": [
          {
           "coloraxis": "coloraxis",
           "customdata": [
            [
             "Asia",
             "Life Expectancy at Birth (2006)"
            ],
            [
             "Asia",
             "Life Expectancy at Birth (2006)"
            ],
            [
             "Asia",
             "Life Expectancy at Birth (2006)"
            ],
            [
             "Asia",
             "Life Expectancy at Birth (2006)"
            ],
            [
             "Asia",
             "Life Expectancy at Birth (2006)"
            ],
            [
             "Asia",
             "Life Expectancy at Birth (2006)"
            ],
            [
             "Asia",
             "Life Expectancy at Birth (2006)"
            ],
            [
             "Asia",
             "Life Expectancy at Birth (2006)"
            ],
            [
             "Asia",
             "Life Expectancy at Birth (2006)"
            ],
            [
             "Asia",
             "Life Expectancy at Birth (2006)"
            ]
           ],
           "geo": "geo",
           "hovertemplate": "<b>%{hovertext}</b><br><br>Year=%{customdata[1]}<br>ISO3=%{location}<br>Continent=%{customdata[0]}<br>Life Expectancy=%{z}<extra></extra>",
           "hovertext": [
            "Brunei",
            "Indonesia",
            "Cambodia",
            "Lao",
            "Myanmar",
            "Malaysia",
            "Philippines",
            "Singapore",
            "Thailand",
            "Viet Nam"
           ],
           "locations": [
            "BRN",
            "IDN",
            "KHM",
            "LAO",
            "MMR",
            "MYS",
            "PHL",
            "SGP",
            "THA",
            "VNM"
           ],
           "name": "",
           "type": "choropleth",
           "z": [
            74.7829,
            67.9144,
            65.0593,
            61.4929,
            61.8931,
            74.1642,
            70.2817,
            80.71,
            74.9381,
            73.3194
           ]
          }
         ],
         "name": "Life Expectancy at Birth (2006)"
        },
        {
         "data": [
          {
           "coloraxis": "coloraxis",
           "customdata": [
            [
             "Asia",
             "Life Expectancy at Birth (2007)"
            ],
            [
             "Asia",
             "Life Expectancy at Birth (2007)"
            ],
            [
             "Asia",
             "Life Expectancy at Birth (2007)"
            ],
            [
             "Asia",
             "Life Expectancy at Birth (2007)"
            ],
            [
             "Asia",
             "Life Expectancy at Birth (2007)"
            ],
            [
             "Asia",
             "Life Expectancy at Birth (2007)"
            ],
            [
             "Asia",
             "Life Expectancy at Birth (2007)"
            ],
            [
             "Asia",
             "Life Expectancy at Birth (2007)"
            ],
            [
             "Asia",
             "Life Expectancy at Birth (2007)"
            ],
            [
             "Asia",
             "Life Expectancy at Birth (2007)"
            ]
           ],
           "geo": "geo",
           "hovertemplate": "<b>%{hovertext}</b><br><br>Year=%{customdata[1]}<br>ISO3=%{location}<br>Continent=%{customdata[0]}<br>Life Expectancy=%{z}<extra></extra>",
           "hovertext": [
            "Brunei",
            "Indonesia",
            "Cambodia",
            "Lao",
            "Myanmar",
            "Malaysia",
            "Philippines",
            "Singapore",
            "Thailand",
            "Viet Nam"
           ],
           "locations": [
            "BRN",
            "IDN",
            "KHM",
            "LAO",
            "MMR",
            "MYS",
            "PHL",
            "SGP",
            "THA",
            "VNM"
           ],
           "name": "",
           "type": "choropleth",
           "z": [
            74.818,
            68.1893,
            65.7314,
            62.0844,
            62.3709,
            74.2109,
            70.4832,
            80.9576,
            75.1872,
            73.4361
           ]
          }
         ],
         "name": "Life Expectancy at Birth (2007)"
        },
        {
         "data": [
          {
           "coloraxis": "coloraxis",
           "customdata": [
            [
             "Asia",
             "Life Expectancy at Birth (2008)"
            ],
            [
             "Asia",
             "Life Expectancy at Birth (2008)"
            ],
            [
             "Asia",
             "Life Expectancy at Birth (2008)"
            ],
            [
             "Asia",
             "Life Expectancy at Birth (2008)"
            ],
            [
             "Asia",
             "Life Expectancy at Birth (2008)"
            ],
            [
             "Asia",
             "Life Expectancy at Birth (2008)"
            ],
            [
             "Asia",
             "Life Expectancy at Birth (2008)"
            ],
            [
             "Asia",
             "Life Expectancy at Birth (2008)"
            ],
            [
             "Asia",
             "Life Expectancy at Birth (2008)"
            ],
            [
             "Asia",
             "Life Expectancy at Birth (2008)"
            ]
           ],
           "geo": "geo",
           "hovertemplate": "<b>%{hovertext}</b><br><br>Year=%{customdata[1]}<br>ISO3=%{location}<br>Continent=%{customdata[0]}<br>Life Expectancy=%{z}<extra></extra>",
           "hovertext": [
            "Brunei",
            "Indonesia",
            "Cambodia",
            "Lao",
            "Myanmar",
            "Malaysia",
            "Philippines",
            "Singapore",
            "Thailand",
            "Viet Nam"
           ],
           "locations": [
            "BRN",
            "IDN",
            "KHM",
            "LAO",
            "MMR",
            "MYS",
            "PHL",
            "SGP",
            "THA",
            "VNM"
           ],
           "name": "",
           "type": "choropleth",
           "z": [
            74.84,
            68.2261,
            66.4698,
            62.6029,
            56.5056,
            74.2502,
            70.5638,
            81.1698,
            75.4916,
            73.411
           ]
          }
         ],
         "name": "Life Expectancy at Birth (2008)"
        },
        {
         "data": [
          {
           "coloraxis": "coloraxis",
           "customdata": [
            [
             "Asia",
             "Life Expectancy at Birth (2009)"
            ],
            [
             "Asia",
             "Life Expectancy at Birth (2009)"
            ],
            [
             "Asia",
             "Life Expectancy at Birth (2009)"
            ],
            [
             "Asia",
             "Life Expectancy at Birth (2009)"
            ],
            [
             "Asia",
             "Life Expectancy at Birth (2009)"
            ],
            [
             "Asia",
             "Life Expectancy at Birth (2009)"
            ],
            [
             "Asia",
             "Life Expectancy at Birth (2009)"
            ],
            [
             "Asia",
             "Life Expectancy at Birth (2009)"
            ],
            [
             "Asia",
             "Life Expectancy at Birth (2009)"
            ],
            [
             "Asia",
             "Life Expectancy at Birth (2009)"
            ]
           ],
           "geo": "geo",
           "hovertemplate": "<b>%{hovertext}</b><br><br>Year=%{customdata[1]}<br>ISO3=%{location}<br>Continent=%{customdata[0]}<br>Life Expectancy=%{z}<extra></extra>",
           "hovertext": [
            "Brunei",
            "Indonesia",
            "Cambodia",
            "Lao",
            "Myanmar",
            "Malaysia",
            "Philippines",
            "Singapore",
            "Thailand",
            "Viet Nam"
           ],
           "locations": [
            "BRN",
            "IDN",
            "KHM",
            "LAO",
            "MMR",
            "MYS",
            "PHL",
            "SGP",
            "THA",
            "VNM"
           ],
           "name": "",
           "type": "choropleth",
           "z": [
            74.8457,
            68.4936,
            67.4439,
            63.2726,
            63.1547,
            74.2266,
            70.6334,
            81.4555,
            75.8416,
            73.4982
           ]
          }
         ],
         "name": "Life Expectancy at Birth (2009)"
        },
        {
         "data": [
          {
           "coloraxis": "coloraxis",
           "customdata": [
            [
             "Asia",
             "Life Expectancy at Birth (2010)"
            ],
            [
             "Asia",
             "Life Expectancy at Birth (2010)"
            ],
            [
             "Asia",
             "Life Expectancy at Birth (2010)"
            ],
            [
             "Asia",
             "Life Expectancy at Birth (2010)"
            ],
            [
             "Asia",
             "Life Expectancy at Birth (2010)"
            ],
            [
             "Asia",
             "Life Expectancy at Birth (2010)"
            ],
            [
             "Asia",
             "Life Expectancy at Birth (2010)"
            ],
            [
             "Asia",
             "Life Expectancy at Birth (2010)"
            ],
            [
             "Asia",
             "Life Expectancy at Birth (2010)"
            ],
            [
             "Asia",
             "Life Expectancy at Birth (2010)"
            ]
           ],
           "geo": "geo",
           "hovertemplate": "<b>%{hovertext}</b><br><br>Year=%{customdata[1]}<br>ISO3=%{location}<br>Continent=%{customdata[0]}<br>Life Expectancy=%{z}<extra></extra>",
           "hovertext": [
            "Brunei",
            "Indonesia",
            "Cambodia",
            "Lao",
            "Myanmar",
            "Malaysia",
            "Philippines",
            "Singapore",
            "Thailand",
            "Viet Nam"
           ],
           "locations": [
            "BRN",
            "IDN",
            "KHM",
            "LAO",
            "MMR",
            "MYS",
            "PHL",
            "SGP",
            "THA",
            "VNM"
           ],
           "name": "",
           "type": "choropleth",
           "z": [
            74.8492,
            68.6793,
            67.7123,
            63.9731,
            63.3294,
            74.4423,
            70.7542,
            81.691,
            76.1313,
            73.5126
           ]
          }
         ],
         "name": "Life Expectancy at Birth (2010)"
        },
        {
         "data": [
          {
           "coloraxis": "coloraxis",
           "customdata": [
            [
             "Asia",
             "Life Expectancy at Birth (2011)"
            ],
            [
             "Asia",
             "Life Expectancy at Birth (2011)"
            ],
            [
             "Asia",
             "Life Expectancy at Birth (2011)"
            ],
            [
             "Asia",
             "Life Expectancy at Birth (2011)"
            ],
            [
             "Asia",
             "Life Expectancy at Birth (2011)"
            ],
            [
             "Asia",
             "Life Expectancy at Birth (2011)"
            ],
            [
             "Asia",
             "Life Expectancy at Birth (2011)"
            ],
            [
             "Asia",
             "Life Expectancy at Birth (2011)"
            ],
            [
             "Asia",
             "Life Expectancy at Birth (2011)"
            ],
            [
             "Asia",
             "Life Expectancy at Birth (2011)"
            ]
           ],
           "geo": "geo",
           "hovertemplate": "<b>%{hovertext}</b><br><br>Year=%{customdata[1]}<br>ISO3=%{location}<br>Continent=%{customdata[0]}<br>Life Expectancy=%{z}<extra></extra>",
           "hovertext": [
            "Brunei",
            "Indonesia",
            "Cambodia",
            "Lao",
            "Myanmar",
            "Malaysia",
            "Philippines",
            "Singapore",
            "Thailand",
            "Viet Nam"
           ],
           "locations": [
            "BRN",
            "IDN",
            "KHM",
            "LAO",
            "MMR",
            "MYS",
            "PHL",
            "SGP",
            "THA",
            "VNM"
           ],
           "name": "",
           "type": "choropleth",
           "z": [
            74.858,
            68.8228,
            68.4163,
            64.7362,
            63.9007,
            74.7459,
            70.7881,
            81.9745,
            76.4212,
            73.6921
           ]
          }
         ],
         "name": "Life Expectancy at Birth (2011)"
        },
        {
         "data": [
          {
           "coloraxis": "coloraxis",
           "customdata": [
            [
             "Asia",
             "Life Expectancy at Birth (2012)"
            ],
            [
             "Asia",
             "Life Expectancy at Birth (2012)"
            ],
            [
             "Asia",
             "Life Expectancy at Birth (2012)"
            ],
            [
             "Asia",
             "Life Expectancy at Birth (2012)"
            ],
            [
             "Asia",
             "Life Expectancy at Birth (2012)"
            ],
            [
             "Asia",
             "Life Expectancy at Birth (2012)"
            ],
            [
             "Asia",
             "Life Expectancy at Birth (2012)"
            ],
            [
             "Asia",
             "Life Expectancy at Birth (2012)"
            ],
            [
             "Asia",
             "Life Expectancy at Birth (2012)"
            ],
            [
             "Asia",
             "Life Expectancy at Birth (2012)"
            ]
           ],
           "geo": "geo",
           "hovertemplate": "<b>%{hovertext}</b><br><br>Year=%{customdata[1]}<br>ISO3=%{location}<br>Continent=%{customdata[0]}<br>Life Expectancy=%{z}<extra></extra>",
           "hovertext": [
            "Brunei",
            "Indonesia",
            "Cambodia",
            "Lao",
            "Myanmar",
            "Malaysia",
            "Philippines",
            "Singapore",
            "Thailand",
            "Viet Nam"
           ],
           "locations": [
            "BRN",
            "IDN",
            "KHM",
            "LAO",
            "MMR",
            "MYS",
            "PHL",
            "SGP",
            "THA",
            "VNM"
           ],
           "name": "",
           "type": "choropleth",
           "z": [
            74.8274,
            68.973,
            68.9149,
            65.3554,
            64.1412,
            74.944,
            70.8813,
            82.2434,
            76.7721,
            73.7044
           ]
          }
         ],
         "name": "Life Expectancy at Birth (2012)"
        },
        {
         "data": [
          {
           "coloraxis": "coloraxis",
           "customdata": [
            [
             "Asia",
             "Life Expectancy at Birth (2013)"
            ],
            [
             "Asia",
             "Life Expectancy at Birth (2013)"
            ],
            [
             "Asia",
             "Life Expectancy at Birth (2013)"
            ],
            [
             "Asia",
             "Life Expectancy at Birth (2013)"
            ],
            [
             "Asia",
             "Life Expectancy at Birth (2013)"
            ],
            [
             "Asia",
             "Life Expectancy at Birth (2013)"
            ],
            [
             "Asia",
             "Life Expectancy at Birth (2013)"
            ],
            [
             "Asia",
             "Life Expectancy at Birth (2013)"
            ],
            [
             "Asia",
             "Life Expectancy at Birth (2013)"
            ],
            [
             "Asia",
             "Life Expectancy at Birth (2013)"
            ]
           ],
           "geo": "geo",
           "hovertemplate": "<b>%{hovertext}</b><br><br>Year=%{customdata[1]}<br>ISO3=%{location}<br>Continent=%{customdata[0]}<br>Life Expectancy=%{z}<extra></extra>",
           "hovertext": [
            "Brunei",
            "Indonesia",
            "Cambodia",
            "Lao",
            "Myanmar",
            "Malaysia",
            "Philippines",
            "Singapore",
            "Thailand",
            "Viet Nam"
           ],
           "locations": [
            "BRN",
            "IDN",
            "KHM",
            "LAO",
            "MMR",
            "MYS",
            "PHL",
            "SGP",
            "THA",
            "VNM"
           ],
           "name": "",
           "type": "choropleth",
           "z": [
            74.7992,
            69.2641,
            69.3042,
            65.7182,
            64.8148,
            75.0348,
            70.8349,
            82.5157,
            77.0827,
            73.7755
           ]
          }
         ],
         "name": "Life Expectancy at Birth (2013)"
        },
        {
         "data": [
          {
           "coloraxis": "coloraxis",
           "customdata": [
            [
             "Asia",
             "Life Expectancy at Birth (2014)"
            ],
            [
             "Asia",
             "Life Expectancy at Birth (2014)"
            ],
            [
             "Asia",
             "Life Expectancy at Birth (2014)"
            ],
            [
             "Asia",
             "Life Expectancy at Birth (2014)"
            ],
            [
             "Asia",
             "Life Expectancy at Birth (2014)"
            ],
            [
             "Asia",
             "Life Expectancy at Birth (2014)"
            ],
            [
             "Asia",
             "Life Expectancy at Birth (2014)"
            ],
            [
             "Asia",
             "Life Expectancy at Birth (2014)"
            ],
            [
             "Asia",
             "Life Expectancy at Birth (2014)"
            ],
            [
             "Asia",
             "Life Expectancy at Birth (2014)"
            ]
           ],
           "geo": "geo",
           "hovertemplate": "<b>%{hovertext}</b><br><br>Year=%{customdata[1]}<br>ISO3=%{location}<br>Continent=%{customdata[0]}<br>Life Expectancy=%{z}<extra></extra>",
           "hovertext": [
            "Brunei",
            "Indonesia",
            "Cambodia",
            "Lao",
            "Myanmar",
            "Malaysia",
            "Philippines",
            "Singapore",
            "Thailand",
            "Viet Nam"
           ],
           "locations": [
            "BRN",
            "IDN",
            "KHM",
            "LAO",
            "MMR",
            "MYS",
            "PHL",
            "SGP",
            "THA",
            "VNM"
           ],
           "name": "",
           "type": "choropleth",
           "z": [
            74.7788,
            69.5333,
            69.7364,
            66.3605,
            65.0563,
            75.1459,
            71.151,
            82.6524,
            77.4153,
            73.8545
           ]
          }
         ],
         "name": "Life Expectancy at Birth (2014)"
        },
        {
         "data": [
          {
           "coloraxis": "coloraxis",
           "customdata": [
            [
             "Asia",
             "Life Expectancy at Birth (2015)"
            ],
            [
             "Asia",
             "Life Expectancy at Birth (2015)"
            ],
            [
             "Asia",
             "Life Expectancy at Birth (2015)"
            ],
            [
             "Asia",
             "Life Expectancy at Birth (2015)"
            ],
            [
             "Asia",
             "Life Expectancy at Birth (2015)"
            ],
            [
             "Asia",
             "Life Expectancy at Birth (2015)"
            ],
            [
             "Asia",
             "Life Expectancy at Birth (2015)"
            ],
            [
             "Asia",
             "Life Expectancy at Birth (2015)"
            ],
            [
             "Asia",
             "Life Expectancy at Birth (2015)"
            ],
            [
             "Asia",
             "Life Expectancy at Birth (2015)"
            ]
           ],
           "geo": "geo",
           "hovertemplate": "<b>%{hovertext}</b><br><br>Year=%{customdata[1]}<br>ISO3=%{location}<br>Continent=%{customdata[0]}<br>Life Expectancy=%{z}<extra></extra>",
           "hovertext": [
            "Brunei",
            "Indonesia",
            "Cambodia",
            "Lao",
            "Myanmar",
            "Malaysia",
            "Philippines",
            "Singapore",
            "Thailand",
            "Viet Nam"
           ],
           "locations": [
            "BRN",
            "IDN",
            "KHM",
            "LAO",
            "MMR",
            "MYS",
            "PHL",
            "SGP",
            "THA",
            "VNM"
           ],
           "name": "",
           "type": "choropleth",
           "z": [
            74.7498,
            69.6989,
            69.8725,
            66.67,
            65.5613,
            75.0942,
            71.2684,
            82.8265,
            77.7166,
            73.8763
           ]
          }
         ],
         "name": "Life Expectancy at Birth (2015)"
        },
        {
         "data": [
          {
           "coloraxis": "coloraxis",
           "customdata": [
            [
             "Asia",
             "Life Expectancy at Birth (2016)"
            ],
            [
             "Asia",
             "Life Expectancy at Birth (2016)"
            ],
            [
             "Asia",
             "Life Expectancy at Birth (2016)"
            ],
            [
             "Asia",
             "Life Expectancy at Birth (2016)"
            ],
            [
             "Asia",
             "Life Expectancy at Birth (2016)"
            ],
            [
             "Asia",
             "Life Expectancy at Birth (2016)"
            ],
            [
             "Asia",
             "Life Expectancy at Birth (2016)"
            ],
            [
             "Asia",
             "Life Expectancy at Birth (2016)"
            ],
            [
             "Asia",
             "Life Expectancy at Birth (2016)"
            ],
            [
             "Asia",
             "Life Expectancy at Birth (2016)"
            ]
           ],
           "geo": "geo",
           "hovertemplate": "<b>%{hovertext}</b><br><br>Year=%{customdata[1]}<br>ISO3=%{location}<br>Continent=%{customdata[0]}<br>Life Expectancy=%{z}<extra></extra>",
           "hovertext": [
            "Brunei",
            "Indonesia",
            "Cambodia",
            "Lao",
            "Myanmar",
            "Malaysia",
            "Philippines",
            "Singapore",
            "Thailand",
            "Viet Nam"
           ],
           "locations": [
            "BRN",
            "IDN",
            "KHM",
            "LAO",
            "MMR",
            "MYS",
            "PHL",
            "SGP",
            "THA",
            "VNM"
           ],
           "name": "",
           "type": "choropleth",
           "z": [
            74.7332,
            69.7976,
            70.2244,
            67.1667,
            65.685,
            75.2888,
            71.3871,
            83.0001,
            78.0489,
            73.9382
           ]
          }
         ],
         "name": "Life Expectancy at Birth (2016)"
        },
        {
         "data": [
          {
           "coloraxis": "coloraxis",
           "customdata": [
            [
             "Asia",
             "Life Expectancy at Birth (2017)"
            ],
            [
             "Asia",
             "Life Expectancy at Birth (2017)"
            ],
            [
             "Asia",
             "Life Expectancy at Birth (2017)"
            ],
            [
             "Asia",
             "Life Expectancy at Birth (2017)"
            ],
            [
             "Asia",
             "Life Expectancy at Birth (2017)"
            ],
            [
             "Asia",
             "Life Expectancy at Birth (2017)"
            ],
            [
             "Asia",
             "Life Expectancy at Birth (2017)"
            ],
            [
             "Asia",
             "Life Expectancy at Birth (2017)"
            ],
            [
             "Asia",
             "Life Expectancy at Birth (2017)"
            ],
            [
             "Asia",
             "Life Expectancy at Birth (2017)"
            ]
           ],
           "geo": "geo",
           "hovertemplate": "<b>%{hovertext}</b><br><br>Year=%{customdata[1]}<br>ISO3=%{location}<br>Continent=%{customdata[0]}<br>Life Expectancy=%{z}<extra></extra>",
           "hovertext": [
            "Brunei",
            "Indonesia",
            "Cambodia",
            "Lao",
            "Myanmar",
            "Malaysia",
            "Philippines",
            "Singapore",
            "Thailand",
            "Viet Nam"
           ],
           "locations": [
            "BRN",
            "IDN",
            "KHM",
            "LAO",
            "MMR",
            "MYS",
            "PHL",
            "SGP",
            "THA",
            "VNM"
           ],
           "name": "",
           "type": "choropleth",
           "z": [
            74.722,
            69.9356,
            70.5153,
            67.4344,
            65.843,
            75.4763,
            71.5156,
            83.2236,
            78.3939,
            73.9632
           ]
          }
         ],
         "name": "Life Expectancy at Birth (2017)"
        },
        {
         "data": [
          {
           "coloraxis": "coloraxis",
           "customdata": [
            [
             "Asia",
             "Life Expectancy at Birth (2018)"
            ],
            [
             "Asia",
             "Life Expectancy at Birth (2018)"
            ],
            [
             "Asia",
             "Life Expectancy at Birth (2018)"
            ],
            [
             "Asia",
             "Life Expectancy at Birth (2018)"
            ],
            [
             "Asia",
             "Life Expectancy at Birth (2018)"
            ],
            [
             "Asia",
             "Life Expectancy at Birth (2018)"
            ],
            [
             "Asia",
             "Life Expectancy at Birth (2018)"
            ],
            [
             "Asia",
             "Life Expectancy at Birth (2018)"
            ],
            [
             "Asia",
             "Life Expectancy at Birth (2018)"
            ],
            [
             "Asia",
             "Life Expectancy at Birth (2018)"
            ]
           ],
           "geo": "geo",
           "hovertemplate": "<b>%{hovertext}</b><br><br>Year=%{customdata[1]}<br>ISO3=%{location}<br>Continent=%{customdata[0]}<br>Life Expectancy=%{z}<extra></extra>",
           "hovertext": [
            "Brunei",
            "Indonesia",
            "Cambodia",
            "Lao",
            "Myanmar",
            "Malaysia",
            "Philippines",
            "Singapore",
            "Thailand",
            "Viet Nam"
           ],
           "locations": [
            "BRN",
            "IDN",
            "KHM",
            "LAO",
            "MMR",
            "MYS",
            "PHL",
            "SGP",
            "THA",
            "VNM"
           ],
           "name": "",
           "type": "choropleth",
           "z": [
            74.7118,
            70.3375,
            70.5609,
            67.6341,
            66.4646,
            75.6444,
            71.689,
            83.4576,
            78.6622,
            73.9757
           ]
          }
         ],
         "name": "Life Expectancy at Birth (2018)"
        },
        {
         "data": [
          {
           "coloraxis": "coloraxis",
           "customdata": [
            [
             "Asia",
             "Life Expectancy at Birth (2019)"
            ],
            [
             "Asia",
             "Life Expectancy at Birth (2019)"
            ],
            [
             "Asia",
             "Life Expectancy at Birth (2019)"
            ],
            [
             "Asia",
             "Life Expectancy at Birth (2019)"
            ],
            [
             "Asia",
             "Life Expectancy at Birth (2019)"
            ],
            [
             "Asia",
             "Life Expectancy at Birth (2019)"
            ],
            [
             "Asia",
             "Life Expectancy at Birth (2019)"
            ],
            [
             "Asia",
             "Life Expectancy at Birth (2019)"
            ],
            [
             "Asia",
             "Life Expectancy at Birth (2019)"
            ],
            [
             "Asia",
             "Life Expectancy at Birth (2019)"
            ]
           ],
           "geo": "geo",
           "hovertemplate": "<b>%{hovertext}</b><br><br>Year=%{customdata[1]}<br>ISO3=%{location}<br>Continent=%{customdata[0]}<br>Life Expectancy=%{z}<extra></extra>",
           "hovertext": [
            "Brunei",
            "Indonesia",
            "Cambodia",
            "Lao",
            "Myanmar",
            "Malaysia",
            "Philippines",
            "Singapore",
            "Thailand",
            "Viet Nam"
           ],
           "locations": [
            "BRN",
            "IDN",
            "KHM",
            "LAO",
            "MMR",
            "MYS",
            "PHL",
            "SGP",
            "THA",
            "VNM"
           ],
           "name": "",
           "type": "choropleth",
           "z": [
            74.7483,
            70.5184,
            70.6923,
            68.1382,
            66.6104,
            75.7603,
            71.8649,
            83.7584,
            78.9751,
            74.0929
           ]
          }
         ],
         "name": "Life Expectancy at Birth (2019)"
        },
        {
         "data": [
          {
           "coloraxis": "coloraxis",
           "customdata": [
            [
             "Asia",
             "Life Expectancy at Birth (2020)"
            ],
            [
             "Asia",
             "Life Expectancy at Birth (2020)"
            ],
            [
             "Asia",
             "Life Expectancy at Birth (2020)"
            ],
            [
             "Asia",
             "Life Expectancy at Birth (2020)"
            ],
            [
             "Asia",
             "Life Expectancy at Birth (2020)"
            ],
            [
             "Asia",
             "Life Expectancy at Birth (2020)"
            ],
            [
             "Asia",
             "Life Expectancy at Birth (2020)"
            ],
            [
             "Asia",
             "Life Expectancy at Birth (2020)"
            ],
            [
             "Asia",
             "Life Expectancy at Birth (2020)"
            ],
            [
             "Asia",
             "Life Expectancy at Birth (2020)"
            ]
           ],
           "geo": "geo",
           "hovertemplate": "<b>%{hovertext}</b><br><br>Year=%{customdata[1]}<br>ISO3=%{location}<br>Continent=%{customdata[0]}<br>Life Expectancy=%{z}<extra></extra>",
           "hovertext": [
            "Brunei",
            "Indonesia",
            "Cambodia",
            "Lao",
            "Myanmar",
            "Malaysia",
            "Philippines",
            "Singapore",
            "Thailand",
            "Viet Nam"
           ],
           "locations": [
            "BRN",
            "IDN",
            "KHM",
            "LAO",
            "MMR",
            "MYS",
            "PHL",
            "SGP",
            "THA",
            "VNM"
           ],
           "name": "",
           "type": "choropleth",
           "z": [
            74.7949,
            68.8077,
            70.416,
            68.4968,
            66.797,
            75.9378,
            72.1191,
            82.861,
            79.2739,
            75.3779
           ]
          }
         ],
         "name": "Life Expectancy at Birth (2020)"
        },
        {
         "data": [
          {
           "coloraxis": "coloraxis",
           "customdata": [
            [
             "Asia",
             "Life Expectancy at Birth (2021)"
            ],
            [
             "Asia",
             "Life Expectancy at Birth (2021)"
            ],
            [
             "Asia",
             "Life Expectancy at Birth (2021)"
            ],
            [
             "Asia",
             "Life Expectancy at Birth (2021)"
            ],
            [
             "Asia",
             "Life Expectancy at Birth (2021)"
            ],
            [
             "Asia",
             "Life Expectancy at Birth (2021)"
            ],
            [
             "Asia",
             "Life Expectancy at Birth (2021)"
            ],
            [
             "Asia",
             "Life Expectancy at Birth (2021)"
            ],
            [
             "Asia",
             "Life Expectancy at Birth (2021)"
            ],
            [
             "Asia",
             "Life Expectancy at Birth (2021)"
            ]
           ],
           "geo": "geo",
           "hovertemplate": "<b>%{hovertext}</b><br><br>Year=%{customdata[1]}<br>ISO3=%{location}<br>Continent=%{customdata[0]}<br>Life Expectancy=%{z}<extra></extra>",
           "hovertext": [
            "Brunei",
            "Indonesia",
            "Cambodia",
            "Lao",
            "Myanmar",
            "Malaysia",
            "Philippines",
            "Singapore",
            "Thailand",
            "Viet Nam"
           ],
           "locations": [
            "BRN",
            "IDN",
            "KHM",
            "LAO",
            "MMR",
            "MYS",
            "PHL",
            "SGP",
            "THA",
            "VNM"
           ],
           "name": "",
           "type": "choropleth",
           "z": [
            74.6424,
            67.5703,
            69.5835,
            68.0608,
            65.6716,
            74.8839,
            69.2664,
            82.7545,
            78.7154,
            73.6181
           ]
          }
         ],
         "name": "Life Expectancy at Birth (2021)"
        }
       ],
       "layout": {
        "coloraxis": {
         "cmax": 90,
         "cmin": 40,
         "colorbar": {
          "title": {
           "text": "Life Expectancy"
          }
         },
         "colorscale": [
          [
           0,
           "#440154"
          ],
          [
           0.1111111111111111,
           "#482878"
          ],
          [
           0.2222222222222222,
           "#3e4989"
          ],
          [
           0.3333333333333333,
           "#31688e"
          ],
          [
           0.4444444444444444,
           "#26828e"
          ],
          [
           0.5555555555555556,
           "#1f9e89"
          ],
          [
           0.6666666666666666,
           "#35b779"
          ],
          [
           0.7777777777777778,
           "#6ece58"
          ],
          [
           0.8888888888888888,
           "#b5de2b"
          ],
          [
           1,
           "#fde725"
          ]
         ]
        },
        "geo": {
         "center": {},
         "domain": {
          "x": [
           0,
           1
          ],
          "y": [
           0,
           1
          ]
         },
         "fitbounds": "locations",
         "projection": {
          "type": "natural earth"
         },
         "showcoastlines": true,
         "visible": false
        },
        "legend": {
         "tracegroupgap": 0
        },
        "sliders": [
         {
          "active": 0,
          "currentvalue": {
           "prefix": "Year="
          },
          "len": 0.9,
          "pad": {
           "b": 10,
           "t": 60
          },
          "steps": [
           {
            "args": [
             [
              "Life Expectancy at Birth (1990)"
             ],
             {
              "frame": {
               "duration": 0,
               "redraw": true
              },
              "fromcurrent": true,
              "mode": "immediate",
              "transition": {
               "duration": 0,
               "easing": "linear"
              }
             }
            ],
            "label": "Life Expectancy at Birth (1990)",
            "method": "animate"
           },
           {
            "args": [
             [
              "Life Expectancy at Birth (1991)"
             ],
             {
              "frame": {
               "duration": 0,
               "redraw": true
              },
              "fromcurrent": true,
              "mode": "immediate",
              "transition": {
               "duration": 0,
               "easing": "linear"
              }
             }
            ],
            "label": "Life Expectancy at Birth (1991)",
            "method": "animate"
           },
           {
            "args": [
             [
              "Life Expectancy at Birth (1992)"
             ],
             {
              "frame": {
               "duration": 0,
               "redraw": true
              },
              "fromcurrent": true,
              "mode": "immediate",
              "transition": {
               "duration": 0,
               "easing": "linear"
              }
             }
            ],
            "label": "Life Expectancy at Birth (1992)",
            "method": "animate"
           },
           {
            "args": [
             [
              "Life Expectancy at Birth (1993)"
             ],
             {
              "frame": {
               "duration": 0,
               "redraw": true
              },
              "fromcurrent": true,
              "mode": "immediate",
              "transition": {
               "duration": 0,
               "easing": "linear"
              }
             }
            ],
            "label": "Life Expectancy at Birth (1993)",
            "method": "animate"
           },
           {
            "args": [
             [
              "Life Expectancy at Birth (1994)"
             ],
             {
              "frame": {
               "duration": 0,
               "redraw": true
              },
              "fromcurrent": true,
              "mode": "immediate",
              "transition": {
               "duration": 0,
               "easing": "linear"
              }
             }
            ],
            "label": "Life Expectancy at Birth (1994)",
            "method": "animate"
           },
           {
            "args": [
             [
              "Life Expectancy at Birth (1995)"
             ],
             {
              "frame": {
               "duration": 0,
               "redraw": true
              },
              "fromcurrent": true,
              "mode": "immediate",
              "transition": {
               "duration": 0,
               "easing": "linear"
              }
             }
            ],
            "label": "Life Expectancy at Birth (1995)",
            "method": "animate"
           },
           {
            "args": [
             [
              "Life Expectancy at Birth (1996)"
             ],
             {
              "frame": {
               "duration": 0,
               "redraw": true
              },
              "fromcurrent": true,
              "mode": "immediate",
              "transition": {
               "duration": 0,
               "easing": "linear"
              }
             }
            ],
            "label": "Life Expectancy at Birth (1996)",
            "method": "animate"
           },
           {
            "args": [
             [
              "Life Expectancy at Birth (1997)"
             ],
             {
              "frame": {
               "duration": 0,
               "redraw": true
              },
              "fromcurrent": true,
              "mode": "immediate",
              "transition": {
               "duration": 0,
               "easing": "linear"
              }
             }
            ],
            "label": "Life Expectancy at Birth (1997)",
            "method": "animate"
           },
           {
            "args": [
             [
              "Life Expectancy at Birth (1998)"
             ],
             {
              "frame": {
               "duration": 0,
               "redraw": true
              },
              "fromcurrent": true,
              "mode": "immediate",
              "transition": {
               "duration": 0,
               "easing": "linear"
              }
             }
            ],
            "label": "Life Expectancy at Birth (1998)",
            "method": "animate"
           },
           {
            "args": [
             [
              "Life Expectancy at Birth (1999)"
             ],
             {
              "frame": {
               "duration": 0,
               "redraw": true
              },
              "fromcurrent": true,
              "mode": "immediate",
              "transition": {
               "duration": 0,
               "easing": "linear"
              }
             }
            ],
            "label": "Life Expectancy at Birth (1999)",
            "method": "animate"
           },
           {
            "args": [
             [
              "Life Expectancy at Birth (2000)"
             ],
             {
              "frame": {
               "duration": 0,
               "redraw": true
              },
              "fromcurrent": true,
              "mode": "immediate",
              "transition": {
               "duration": 0,
               "easing": "linear"
              }
             }
            ],
            "label": "Life Expectancy at Birth (2000)",
            "method": "animate"
           },
           {
            "args": [
             [
              "Life Expectancy at Birth (2001)"
             ],
             {
              "frame": {
               "duration": 0,
               "redraw": true
              },
              "fromcurrent": true,
              "mode": "immediate",
              "transition": {
               "duration": 0,
               "easing": "linear"
              }
             }
            ],
            "label": "Life Expectancy at Birth (2001)",
            "method": "animate"
           },
           {
            "args": [
             [
              "Life Expectancy at Birth (2002)"
             ],
             {
              "frame": {
               "duration": 0,
               "redraw": true
              },
              "fromcurrent": true,
              "mode": "immediate",
              "transition": {
               "duration": 0,
               "easing": "linear"
              }
             }
            ],
            "label": "Life Expectancy at Birth (2002)",
            "method": "animate"
           },
           {
            "args": [
             [
              "Life Expectancy at Birth (2003)"
             ],
             {
              "frame": {
               "duration": 0,
               "redraw": true
              },
              "fromcurrent": true,
              "mode": "immediate",
              "transition": {
               "duration": 0,
               "easing": "linear"
              }
             }
            ],
            "label": "Life Expectancy at Birth (2003)",
            "method": "animate"
           },
           {
            "args": [
             [
              "Life Expectancy at Birth (2004)"
             ],
             {
              "frame": {
               "duration": 0,
               "redraw": true
              },
              "fromcurrent": true,
              "mode": "immediate",
              "transition": {
               "duration": 0,
               "easing": "linear"
              }
             }
            ],
            "label": "Life Expectancy at Birth (2004)",
            "method": "animate"
           },
           {
            "args": [
             [
              "Life Expectancy at Birth (2005)"
             ],
             {
              "frame": {
               "duration": 0,
               "redraw": true
              },
              "fromcurrent": true,
              "mode": "immediate",
              "transition": {
               "duration": 0,
               "easing": "linear"
              }
             }
            ],
            "label": "Life Expectancy at Birth (2005)",
            "method": "animate"
           },
           {
            "args": [
             [
              "Life Expectancy at Birth (2006)"
             ],
             {
              "frame": {
               "duration": 0,
               "redraw": true
              },
              "fromcurrent": true,
              "mode": "immediate",
              "transition": {
               "duration": 0,
               "easing": "linear"
              }
             }
            ],
            "label": "Life Expectancy at Birth (2006)",
            "method": "animate"
           },
           {
            "args": [
             [
              "Life Expectancy at Birth (2007)"
             ],
             {
              "frame": {
               "duration": 0,
               "redraw": true
              },
              "fromcurrent": true,
              "mode": "immediate",
              "transition": {
               "duration": 0,
               "easing": "linear"
              }
             }
            ],
            "label": "Life Expectancy at Birth (2007)",
            "method": "animate"
           },
           {
            "args": [
             [
              "Life Expectancy at Birth (2008)"
             ],
             {
              "frame": {
               "duration": 0,
               "redraw": true
              },
              "fromcurrent": true,
              "mode": "immediate",
              "transition": {
               "duration": 0,
               "easing": "linear"
              }
             }
            ],
            "label": "Life Expectancy at Birth (2008)",
            "method": "animate"
           },
           {
            "args": [
             [
              "Life Expectancy at Birth (2009)"
             ],
             {
              "frame": {
               "duration": 0,
               "redraw": true
              },
              "fromcurrent": true,
              "mode": "immediate",
              "transition": {
               "duration": 0,
               "easing": "linear"
              }
             }
            ],
            "label": "Life Expectancy at Birth (2009)",
            "method": "animate"
           },
           {
            "args": [
             [
              "Life Expectancy at Birth (2010)"
             ],
             {
              "frame": {
               "duration": 0,
               "redraw": true
              },
              "fromcurrent": true,
              "mode": "immediate",
              "transition": {
               "duration": 0,
               "easing": "linear"
              }
             }
            ],
            "label": "Life Expectancy at Birth (2010)",
            "method": "animate"
           },
           {
            "args": [
             [
              "Life Expectancy at Birth (2011)"
             ],
             {
              "frame": {
               "duration": 0,
               "redraw": true
              },
              "fromcurrent": true,
              "mode": "immediate",
              "transition": {
               "duration": 0,
               "easing": "linear"
              }
             }
            ],
            "label": "Life Expectancy at Birth (2011)",
            "method": "animate"
           },
           {
            "args": [
             [
              "Life Expectancy at Birth (2012)"
             ],
             {
              "frame": {
               "duration": 0,
               "redraw": true
              },
              "fromcurrent": true,
              "mode": "immediate",
              "transition": {
               "duration": 0,
               "easing": "linear"
              }
             }
            ],
            "label": "Life Expectancy at Birth (2012)",
            "method": "animate"
           },
           {
            "args": [
             [
              "Life Expectancy at Birth (2013)"
             ],
             {
              "frame": {
               "duration": 0,
               "redraw": true
              },
              "fromcurrent": true,
              "mode": "immediate",
              "transition": {
               "duration": 0,
               "easing": "linear"
              }
             }
            ],
            "label": "Life Expectancy at Birth (2013)",
            "method": "animate"
           },
           {
            "args": [
             [
              "Life Expectancy at Birth (2014)"
             ],
             {
              "frame": {
               "duration": 0,
               "redraw": true
              },
              "fromcurrent": true,
              "mode": "immediate",
              "transition": {
               "duration": 0,
               "easing": "linear"
              }
             }
            ],
            "label": "Life Expectancy at Birth (2014)",
            "method": "animate"
           },
           {
            "args": [
             [
              "Life Expectancy at Birth (2015)"
             ],
             {
              "frame": {
               "duration": 0,
               "redraw": true
              },
              "fromcurrent": true,
              "mode": "immediate",
              "transition": {
               "duration": 0,
               "easing": "linear"
              }
             }
            ],
            "label": "Life Expectancy at Birth (2015)",
            "method": "animate"
           },
           {
            "args": [
             [
              "Life Expectancy at Birth (2016)"
             ],
             {
              "frame": {
               "duration": 0,
               "redraw": true
              },
              "fromcurrent": true,
              "mode": "immediate",
              "transition": {
               "duration": 0,
               "easing": "linear"
              }
             }
            ],
            "label": "Life Expectancy at Birth (2016)",
            "method": "animate"
           },
           {
            "args": [
             [
              "Life Expectancy at Birth (2017)"
             ],
             {
              "frame": {
               "duration": 0,
               "redraw": true
              },
              "fromcurrent": true,
              "mode": "immediate",
              "transition": {
               "duration": 0,
               "easing": "linear"
              }
             }
            ],
            "label": "Life Expectancy at Birth (2017)",
            "method": "animate"
           },
           {
            "args": [
             [
              "Life Expectancy at Birth (2018)"
             ],
             {
              "frame": {
               "duration": 0,
               "redraw": true
              },
              "fromcurrent": true,
              "mode": "immediate",
              "transition": {
               "duration": 0,
               "easing": "linear"
              }
             }
            ],
            "label": "Life Expectancy at Birth (2018)",
            "method": "animate"
           },
           {
            "args": [
             [
              "Life Expectancy at Birth (2019)"
             ],
             {
              "frame": {
               "duration": 0,
               "redraw": true
              },
              "fromcurrent": true,
              "mode": "immediate",
              "transition": {
               "duration": 0,
               "easing": "linear"
              }
             }
            ],
            "label": "Life Expectancy at Birth (2019)",
            "method": "animate"
           },
           {
            "args": [
             [
              "Life Expectancy at Birth (2020)"
             ],
             {
              "frame": {
               "duration": 0,
               "redraw": true
              },
              "fromcurrent": true,
              "mode": "immediate",
              "transition": {
               "duration": 0,
               "easing": "linear"
              }
             }
            ],
            "label": "Life Expectancy at Birth (2020)",
            "method": "animate"
           },
           {
            "args": [
             [
              "Life Expectancy at Birth (2021)"
             ],
             {
              "frame": {
               "duration": 0,
               "redraw": true
              },
              "fromcurrent": true,
              "mode": "immediate",
              "transition": {
               "duration": 0,
               "easing": "linear"
              }
             }
            ],
            "label": "Life Expectancy at Birth (2021)",
            "method": "animate"
           }
          ],
          "x": 0.1,
          "xanchor": "left",
          "y": 0,
          "yanchor": "top"
         }
        ],
        "template": {
         "data": {
          "bar": [
           {
            "error_x": {
             "color": "#2a3f5f"
            },
            "error_y": {
             "color": "#2a3f5f"
            },
            "marker": {
             "line": {
              "color": "#E5ECF6",
              "width": 0.5
             },
             "pattern": {
              "fillmode": "overlay",
              "size": 10,
              "solidity": 0.2
             }
            },
            "type": "bar"
           }
          ],
          "barpolar": [
           {
            "marker": {
             "line": {
              "color": "#E5ECF6",
              "width": 0.5
             },
             "pattern": {
              "fillmode": "overlay",
              "size": 10,
              "solidity": 0.2
             }
            },
            "type": "barpolar"
           }
          ],
          "carpet": [
           {
            "aaxis": {
             "endlinecolor": "#2a3f5f",
             "gridcolor": "white",
             "linecolor": "white",
             "minorgridcolor": "white",
             "startlinecolor": "#2a3f5f"
            },
            "baxis": {
             "endlinecolor": "#2a3f5f",
             "gridcolor": "white",
             "linecolor": "white",
             "minorgridcolor": "white",
             "startlinecolor": "#2a3f5f"
            },
            "type": "carpet"
           }
          ],
          "choropleth": [
           {
            "colorbar": {
             "outlinewidth": 0,
             "ticks": ""
            },
            "type": "choropleth"
           }
          ],
          "contour": [
           {
            "colorbar": {
             "outlinewidth": 0,
             "ticks": ""
            },
            "colorscale": [
             [
              0,
              "#0d0887"
             ],
             [
              0.1111111111111111,
              "#46039f"
             ],
             [
              0.2222222222222222,
              "#7201a8"
             ],
             [
              0.3333333333333333,
              "#9c179e"
             ],
             [
              0.4444444444444444,
              "#bd3786"
             ],
             [
              0.5555555555555556,
              "#d8576b"
             ],
             [
              0.6666666666666666,
              "#ed7953"
             ],
             [
              0.7777777777777778,
              "#fb9f3a"
             ],
             [
              0.8888888888888888,
              "#fdca26"
             ],
             [
              1,
              "#f0f921"
             ]
            ],
            "type": "contour"
           }
          ],
          "contourcarpet": [
           {
            "colorbar": {
             "outlinewidth": 0,
             "ticks": ""
            },
            "type": "contourcarpet"
           }
          ],
          "heatmap": [
           {
            "colorbar": {
             "outlinewidth": 0,
             "ticks": ""
            },
            "colorscale": [
             [
              0,
              "#0d0887"
             ],
             [
              0.1111111111111111,
              "#46039f"
             ],
             [
              0.2222222222222222,
              "#7201a8"
             ],
             [
              0.3333333333333333,
              "#9c179e"
             ],
             [
              0.4444444444444444,
              "#bd3786"
             ],
             [
              0.5555555555555556,
              "#d8576b"
             ],
             [
              0.6666666666666666,
              "#ed7953"
             ],
             [
              0.7777777777777778,
              "#fb9f3a"
             ],
             [
              0.8888888888888888,
              "#fdca26"
             ],
             [
              1,
              "#f0f921"
             ]
            ],
            "type": "heatmap"
           }
          ],
          "heatmapgl": [
           {
            "colorbar": {
             "outlinewidth": 0,
             "ticks": ""
            },
            "colorscale": [
             [
              0,
              "#0d0887"
             ],
             [
              0.1111111111111111,
              "#46039f"
             ],
             [
              0.2222222222222222,
              "#7201a8"
             ],
             [
              0.3333333333333333,
              "#9c179e"
             ],
             [
              0.4444444444444444,
              "#bd3786"
             ],
             [
              0.5555555555555556,
              "#d8576b"
             ],
             [
              0.6666666666666666,
              "#ed7953"
             ],
             [
              0.7777777777777778,
              "#fb9f3a"
             ],
             [
              0.8888888888888888,
              "#fdca26"
             ],
             [
              1,
              "#f0f921"
             ]
            ],
            "type": "heatmapgl"
           }
          ],
          "histogram": [
           {
            "marker": {
             "pattern": {
              "fillmode": "overlay",
              "size": 10,
              "solidity": 0.2
             }
            },
            "type": "histogram"
           }
          ],
          "histogram2d": [
           {
            "colorbar": {
             "outlinewidth": 0,
             "ticks": ""
            },
            "colorscale": [
             [
              0,
              "#0d0887"
             ],
             [
              0.1111111111111111,
              "#46039f"
             ],
             [
              0.2222222222222222,
              "#7201a8"
             ],
             [
              0.3333333333333333,
              "#9c179e"
             ],
             [
              0.4444444444444444,
              "#bd3786"
             ],
             [
              0.5555555555555556,
              "#d8576b"
             ],
             [
              0.6666666666666666,
              "#ed7953"
             ],
             [
              0.7777777777777778,
              "#fb9f3a"
             ],
             [
              0.8888888888888888,
              "#fdca26"
             ],
             [
              1,
              "#f0f921"
             ]
            ],
            "type": "histogram2d"
           }
          ],
          "histogram2dcontour": [
           {
            "colorbar": {
             "outlinewidth": 0,
             "ticks": ""
            },
            "colorscale": [
             [
              0,
              "#0d0887"
             ],
             [
              0.1111111111111111,
              "#46039f"
             ],
             [
              0.2222222222222222,
              "#7201a8"
             ],
             [
              0.3333333333333333,
              "#9c179e"
             ],
             [
              0.4444444444444444,
              "#bd3786"
             ],
             [
              0.5555555555555556,
              "#d8576b"
             ],
             [
              0.6666666666666666,
              "#ed7953"
             ],
             [
              0.7777777777777778,
              "#fb9f3a"
             ],
             [
              0.8888888888888888,
              "#fdca26"
             ],
             [
              1,
              "#f0f921"
             ]
            ],
            "type": "histogram2dcontour"
           }
          ],
          "mesh3d": [
           {
            "colorbar": {
             "outlinewidth": 0,
             "ticks": ""
            },
            "type": "mesh3d"
           }
          ],
          "parcoords": [
           {
            "line": {
             "colorbar": {
              "outlinewidth": 0,
              "ticks": ""
             }
            },
            "type": "parcoords"
           }
          ],
          "pie": [
           {
            "automargin": true,
            "type": "pie"
           }
          ],
          "scatter": [
           {
            "fillpattern": {
             "fillmode": "overlay",
             "size": 10,
             "solidity": 0.2
            },
            "type": "scatter"
           }
          ],
          "scatter3d": [
           {
            "line": {
             "colorbar": {
              "outlinewidth": 0,
              "ticks": ""
             }
            },
            "marker": {
             "colorbar": {
              "outlinewidth": 0,
              "ticks": ""
             }
            },
            "type": "scatter3d"
           }
          ],
          "scattercarpet": [
           {
            "marker": {
             "colorbar": {
              "outlinewidth": 0,
              "ticks": ""
             }
            },
            "type": "scattercarpet"
           }
          ],
          "scattergeo": [
           {
            "marker": {
             "colorbar": {
              "outlinewidth": 0,
              "ticks": ""
             }
            },
            "type": "scattergeo"
           }
          ],
          "scattergl": [
           {
            "marker": {
             "colorbar": {
              "outlinewidth": 0,
              "ticks": ""
             }
            },
            "type": "scattergl"
           }
          ],
          "scattermapbox": [
           {
            "marker": {
             "colorbar": {
              "outlinewidth": 0,
              "ticks": ""
             }
            },
            "type": "scattermapbox"
           }
          ],
          "scatterpolar": [
           {
            "marker": {
             "colorbar": {
              "outlinewidth": 0,
              "ticks": ""
             }
            },
            "type": "scatterpolar"
           }
          ],
          "scatterpolargl": [
           {
            "marker": {
             "colorbar": {
              "outlinewidth": 0,
              "ticks": ""
             }
            },
            "type": "scatterpolargl"
           }
          ],
          "scatterternary": [
           {
            "marker": {
             "colorbar": {
              "outlinewidth": 0,
              "ticks": ""
             }
            },
            "type": "scatterternary"
           }
          ],
          "surface": [
           {
            "colorbar": {
             "outlinewidth": 0,
             "ticks": ""
            },
            "colorscale": [
             [
              0,
              "#0d0887"
             ],
             [
              0.1111111111111111,
              "#46039f"
             ],
             [
              0.2222222222222222,
              "#7201a8"
             ],
             [
              0.3333333333333333,
              "#9c179e"
             ],
             [
              0.4444444444444444,
              "#bd3786"
             ],
             [
              0.5555555555555556,
              "#d8576b"
             ],
             [
              0.6666666666666666,
              "#ed7953"
             ],
             [
              0.7777777777777778,
              "#fb9f3a"
             ],
             [
              0.8888888888888888,
              "#fdca26"
             ],
             [
              1,
              "#f0f921"
             ]
            ],
            "type": "surface"
           }
          ],
          "table": [
           {
            "cells": {
             "fill": {
              "color": "#EBF0F8"
             },
             "line": {
              "color": "white"
             }
            },
            "header": {
             "fill": {
              "color": "#C8D4E3"
             },
             "line": {
              "color": "white"
             }
            },
            "type": "table"
           }
          ]
         },
         "layout": {
          "annotationdefaults": {
           "arrowcolor": "#2a3f5f",
           "arrowhead": 0,
           "arrowwidth": 1
          },
          "autotypenumbers": "strict",
          "coloraxis": {
           "colorbar": {
            "outlinewidth": 0,
            "ticks": ""
           }
          },
          "colorscale": {
           "diverging": [
            [
             0,
             "#8e0152"
            ],
            [
             0.1,
             "#c51b7d"
            ],
            [
             0.2,
             "#de77ae"
            ],
            [
             0.3,
             "#f1b6da"
            ],
            [
             0.4,
             "#fde0ef"
            ],
            [
             0.5,
             "#f7f7f7"
            ],
            [
             0.6,
             "#e6f5d0"
            ],
            [
             0.7,
             "#b8e186"
            ],
            [
             0.8,
             "#7fbc41"
            ],
            [
             0.9,
             "#4d9221"
            ],
            [
             1,
             "#276419"
            ]
           ],
           "sequential": [
            [
             0,
             "#0d0887"
            ],
            [
             0.1111111111111111,
             "#46039f"
            ],
            [
             0.2222222222222222,
             "#7201a8"
            ],
            [
             0.3333333333333333,
             "#9c179e"
            ],
            [
             0.4444444444444444,
             "#bd3786"
            ],
            [
             0.5555555555555556,
             "#d8576b"
            ],
            [
             0.6666666666666666,
             "#ed7953"
            ],
            [
             0.7777777777777778,
             "#fb9f3a"
            ],
            [
             0.8888888888888888,
             "#fdca26"
            ],
            [
             1,
             "#f0f921"
            ]
           ],
           "sequentialminus": [
            [
             0,
             "#0d0887"
            ],
            [
             0.1111111111111111,
             "#46039f"
            ],
            [
             0.2222222222222222,
             "#7201a8"
            ],
            [
             0.3333333333333333,
             "#9c179e"
            ],
            [
             0.4444444444444444,
             "#bd3786"
            ],
            [
             0.5555555555555556,
             "#d8576b"
            ],
            [
             0.6666666666666666,
             "#ed7953"
            ],
            [
             0.7777777777777778,
             "#fb9f3a"
            ],
            [
             0.8888888888888888,
             "#fdca26"
            ],
            [
             1,
             "#f0f921"
            ]
           ]
          },
          "colorway": [
           "#636efa",
           "#EF553B",
           "#00cc96",
           "#ab63fa",
           "#FFA15A",
           "#19d3f3",
           "#FF6692",
           "#B6E880",
           "#FF97FF",
           "#FECB52"
          ],
          "font": {
           "color": "#2a3f5f"
          },
          "geo": {
           "bgcolor": "white",
           "lakecolor": "white",
           "landcolor": "#E5ECF6",
           "showlakes": true,
           "showland": true,
           "subunitcolor": "white"
          },
          "hoverlabel": {
           "align": "left"
          },
          "hovermode": "closest",
          "mapbox": {
           "style": "light"
          },
          "paper_bgcolor": "white",
          "plot_bgcolor": "#E5ECF6",
          "polar": {
           "angularaxis": {
            "gridcolor": "white",
            "linecolor": "white",
            "ticks": ""
           },
           "bgcolor": "#E5ECF6",
           "radialaxis": {
            "gridcolor": "white",
            "linecolor": "white",
            "ticks": ""
           }
          },
          "scene": {
           "xaxis": {
            "backgroundcolor": "#E5ECF6",
            "gridcolor": "white",
            "gridwidth": 2,
            "linecolor": "white",
            "showbackground": true,
            "ticks": "",
            "zerolinecolor": "white"
           },
           "yaxis": {
            "backgroundcolor": "#E5ECF6",
            "gridcolor": "white",
            "gridwidth": 2,
            "linecolor": "white",
            "showbackground": true,
            "ticks": "",
            "zerolinecolor": "white"
           },
           "zaxis": {
            "backgroundcolor": "#E5ECF6",
            "gridcolor": "white",
            "gridwidth": 2,
            "linecolor": "white",
            "showbackground": true,
            "ticks": "",
            "zerolinecolor": "white"
           }
          },
          "shapedefaults": {
           "line": {
            "color": "#2a3f5f"
           }
          },
          "ternary": {
           "aaxis": {
            "gridcolor": "white",
            "linecolor": "white",
            "ticks": ""
           },
           "baxis": {
            "gridcolor": "white",
            "linecolor": "white",
            "ticks": ""
           },
           "bgcolor": "#E5ECF6",
           "caxis": {
            "gridcolor": "white",
            "linecolor": "white",
            "ticks": ""
           }
          },
          "title": {
           "x": 0.05
          },
          "xaxis": {
           "automargin": true,
           "gridcolor": "white",
           "linecolor": "white",
           "ticks": "",
           "title": {
            "standoff": 15
           },
           "zerolinecolor": "white",
           "zerolinewidth": 2
          },
          "yaxis": {
           "automargin": true,
           "gridcolor": "white",
           "linecolor": "white",
           "ticks": "",
           "title": {
            "standoff": 15
           },
           "zerolinecolor": "white",
           "zerolinewidth": 2
          }
         }
        },
        "title": {
         "text": "Life Expectancy at Birth in ASEAN Countries (1990-2021)"
        },
        "updatemenus": [
         {
          "buttons": [
           {
            "args": [
             null,
             {
              "frame": {
               "duration": 500,
               "redraw": true
              },
              "fromcurrent": true,
              "mode": "immediate",
              "transition": {
               "duration": 500,
               "easing": "linear"
              }
             }
            ],
            "label": "&#9654;",
            "method": "animate"
           },
           {
            "args": [
             [
              null
             ],
             {
              "frame": {
               "duration": 0,
               "redraw": true
              },
              "fromcurrent": true,
              "mode": "immediate",
              "transition": {
               "duration": 0,
               "easing": "linear"
              }
             }
            ],
            "label": "&#9724;",
            "method": "animate"
           }
          ],
          "direction": "left",
          "pad": {
           "r": 10,
           "t": 70
          },
          "showactive": false,
          "type": "buttons",
          "x": 0.1,
          "xanchor": "right",
          "y": 0,
          "yanchor": "top"
         }
        ]
       }
      }
     },
     "metadata": {},
     "output_type": "display_data"
    }
   ],
   "source": [
    "# ISO3 codes for the countries of interest\n",
    "asean_iso3 = ['BRN', 'KHM', 'IDN', 'LAO', 'MYS', 'MMR', 'PHL', 'SGP', 'THA', 'VNM']\n",
    "\n",
    "asean_data = df[df['ISO3'].isin(asean_iso3)]\n",
    "\n",
    "# Melt the DataFrame to make it suitable for animation\n",
    "melted_df = asean_data.melt(id_vars=['ISO3', 'Country', 'Continent'],\n",
    "                            value_vars=[f'Life Expectancy at Birth ({year})' for year in range(1990, 2022)],\n",
    "                            var_name='Year', value_name='Life Expectancy')\n",
    "\n",
    "# Create an animated map visualization\n",
    "fig = px.choropleth(\n",
    "    melted_df,\n",
    "    locations=\"ISO3\",\n",
    "    color=\"Life Expectancy\",\n",
    "    hover_name=\"Country\",\n",
    "    hover_data=[\"Continent\", \"Year\"],\n",
    "    animation_frame=\"Year\",\n",
    "    title=\"Life Expectancy at Birth in ASEAN Countries (1990-2021)\",\n",
    "    color_continuous_scale=\"viridis\",\n",
    "    range_color=(40, 90),  # Adjust the color scale range\n",
    "    projection=\"natural earth\"\n",
    ")\n",
    "\n",
    "# Set the bounding box for ASEAN region\n",
    "fig.update_geos(fitbounds=\"locations\", visible=False)  # Automatically zoom to fit ASEAN region\n",
    "\n",
    "# Update layout\n",
    "fig.update_layout(geo=dict(showcoastlines=True))\n",
    "\n",
    "# Show the animated map\n",
    "fig.show()"
   ]
  },
  {
   "cell_type": "markdown",
   "metadata": {},
   "source": [
    "## Correlation between HDI and Life Expectancy"
   ]
  },
  {
   "cell_type": "code",
   "execution_count": 40,
   "metadata": {},
   "outputs": [
    {
     "name": "stdout",
     "output_type": "stream",
     "text": [
      "Pearson Correlation Coefficient between HDI and Life Expectancy: -0.8997890920166731\n"
     ]
    }
   ],
   "source": [
    "# Calculate the Pearson correlation coefficient between HDI and life expectancy\n",
    "correlation = df['HDI Rank (2021)'].corr(df['Life Expectancy at Birth (2021)'])\n",
    "\n",
    "# Print the correlation coefficient\n",
    "print(\"Pearson Correlation Coefficient between HDI and Life Expectancy:\", correlation)\n"
   ]
  },
  {
   "cell_type": "markdown",
   "metadata": {},
   "source": [
    "## Time Series Analysis of the Life Expectancy in ASEAN"
   ]
  },
  {
   "cell_type": "code",
   "execution_count": 21,
   "metadata": {},
   "outputs": [],
   "source": [
    "from scipy.stats import linregress"
   ]
  },
  {
   "cell_type": "code",
   "execution_count": 35,
   "metadata": {},
   "outputs": [
    {
     "name": "stdout",
     "output_type": "stream",
     "text": [
      "Year: 1990, Trend: 1.0459571428571421\n",
      "Year: 1991, Trend: 1.0974200000000012\n",
      "Year: 1992, Trend: 1.0214142857142845\n",
      "Year: 1993, Trend: 1.0314828571428578\n",
      "Year: 1994, Trend: 0.9898971428571433\n",
      "Year: 1995, Trend: 0.9764200000000022\n",
      "Year: 1996, Trend: 1.0478142857142854\n",
      "Year: 1997, Trend: 1.1239342857142858\n",
      "Year: 1998, Trend: 1.1912314285714287\n",
      "Year: 1999, Trend: 1.155177142857143\n",
      "Year: 2000, Trend: 1.097685714285715\n",
      "Year: 2001, Trend: 1.052188571428571\n",
      "Year: 2002, Trend: 1.0273914285714267\n",
      "Year: 2003, Trend: 1.0110685714285714\n",
      "Year: 2004, Trend: 1.2627371428571446\n",
      "Year: 2005, Trend: 1.0685085714285723\n",
      "Year: 2006, Trend: 1.1364285714285725\n",
      "Year: 2007, Trend: 1.1324942857142857\n",
      "Year: 2008, Trend: 1.1501342857142853\n",
      "Year: 2009, Trend: 1.162574285714285\n",
      "Year: 2010, Trend: 1.147722857142858\n",
      "Year: 2011, Trend: 1.158822857142856\n",
      "Year: 2012, Trend: 1.1572400000000005\n",
      "Year: 2013, Trend: 1.1537571428571416\n",
      "Year: 2014, Trend: 1.1404457142857154\n",
      "Year: 2015, Trend: 1.1517800000000007\n",
      "Year: 2016, Trend: 1.1598942857142853\n",
      "Year: 2017, Trend: 1.1599657142857158\n",
      "Year: 2018, Trend: 1.1146571428571421\n",
      "Year: 2019, Trend: 1.126011428571428\n",
      "Year: 2020, Trend: 1.5314628571428572\n",
      "Year: 2021, Trend: 1.5777599999999994\n"
     ]
    }
   ],
   "source": [
    "# Extract the years and life expectancy values\n",
    "years = asean_data.columns[7:].str.extract(r'(\\d{4})')[0].astype(int)  # Extract the year from the column labels\n",
    "life_expectancy_values = asean_data.iloc[:, 7:]  # Select life expectancy columns\n",
    "\n",
    "# Calculate the linear regression trend for life expectancy\n",
    "trends = []\n",
    "for idx, year in enumerate(years):\n",
    "    slope, intercept, r_value, p_value, std_err = linregress(range(len(asean_data)), life_expectancy_values.iloc[:, idx])\n",
    "    trends.append(slope)\n",
    "\n",
    "# Print the calculated trends for each year\n",
    "for year, trend in zip(years, trends):\n",
    "    print(f\"Year: {year}, Trend: {trend}\")"
   ]
  },
  {
   "cell_type": "code",
   "execution_count": 41,
   "metadata": {},
   "outputs": [
    {
     "data": {
      "image/png": "[encoded data removed]",
      "text/plain": [
       "<Figure size 1000x600 with 1 Axes>"
      ]
     },
     "metadata": {},
     "output_type": "display_data"
    }
   ],
   "source": [
    "# Extract the years and life expectancy values\n",
    "years = asean_data.columns[7:].tolist()  # Exclude the non-year columns\n",
    "life_expectancy_values = asean_data.iloc[:, 7:].mean()  # Calculate mean life expectancy over ASEAN countries\n",
    "\n",
    "# Create a line chart to visualize the trend in average life expectancy\n",
    "plt.figure(figsize=(10, 6))\n",
    "plt.plot(years, life_expectancy_values, marker='o')\n",
    "plt.title('Trend in Average Life Expectancy (1990-2021) - ASEAN')\n",
    "plt.xlabel('Year')\n",
    "plt.ylabel('Average Life Expectancy')\n",
    "plt.xticks(rotation=45)\n",
    "plt.grid(True)\n",
    "plt.show()"
   ]
  },
  {
   "cell_type": "markdown",
   "metadata": {},
   "source": [
    "## Predicting the Life Expectancy in the Philippines in future years using ARIMA"
   ]
  },
  {
   "cell_type": "code",
   "execution_count": 42,
   "metadata": {},
   "outputs": [],
   "source": [
    "from statsmodels.tsa.arima.model import ARIMA\n",
    "from sklearn.metrics import mean_squared_error"
   ]
  },
  {
   "cell_type": "code",
   "execution_count": 43,
   "metadata": {},
   "outputs": [
    {
     "name": "stdout",
     "output_type": "stream",
     "text": [
      "Mean Squared Error: 1.17\n"
     ]
    },
    {
     "data": {
      "image/png": "[encoded data removed]",
      "text/plain": [
       "<Figure size 1000x600 with 1 Axes>"
      ]
     },
     "metadata": {},
     "output_type": "display_data"
    }
   ],
   "source": [
    "# Filter the data for the Philippines\n",
    "philippines_data = df[df['Country'] == 'Philippines']\n",
    "\n",
    "# Calculate the mean life expectancy for each year\n",
    "years = philippines_data.columns[7:].tolist()\n",
    "mean_life_expectancy = philippines_data.iloc[:, 7:].mean()\n",
    "\n",
    "# Create a datetime index\n",
    "start_year = 1990\n",
    "end_year = 2021\n",
    "date_range = pd.date_range(start=f\"{start_year}-01-01\", end=f\"{end_year}-12-31\", freq='Y')\n",
    "\n",
    "# Assign the datetime index to the mean_life_expectancy series\n",
    "mean_life_expectancy.index = date_range\n",
    "\n",
    "# Split the data into training and testing sets\n",
    "train_size = int(len(mean_life_expectancy) * 0.8)\n",
    "train_data, test_data = mean_life_expectancy[:train_size], mean_life_expectancy[train_size:]\n",
    "\n",
    "# Fit an ARIMA model to the training data\n",
    "order = (5, 1, 0)  # (p, d, q) values for ARIMA\n",
    "model = ARIMA(train_data, order=order)\n",
    "model_fit = model.fit()\n",
    "\n",
    "# Forecast future life expectancy values\n",
    "forecast_steps = len(test_data)\n",
    "forecast_values = model_fit.forecast(steps=forecast_steps)\n",
    "\n",
    "# Calculate the mean squared error of the forecast\n",
    "mse = mean_squared_error(test_data, forecast_values)\n",
    "print(f\"Mean Squared Error: {mse:.2f}\")\n",
    "\n",
    "# Plot the actual vs. forecasted values\n",
    "plt.figure(figsize=(10, 6))\n",
    "plt.plot(test_data.index, test_data, label='Actual')\n",
    "plt.plot(test_data.index, forecast_values, label='Forecast')\n",
    "plt.xlabel('Year')\n",
    "plt.ylabel('Life Expectancy')\n",
    "plt.title('ARIMA Forecasting: Actual vs. Forecasted Life Expectancy (Philippines)')\n",
    "plt.legend()\n",
    "plt.show()"
   ]
  },
  {
   "cell_type": "code",
   "execution_count": 44,
   "metadata": {},
   "outputs": [],
   "source": [
    "from statsmodels.tsa.holtwinters import ExponentialSmoothing"
   ]
  },
  {
   "cell_type": "code",
   "execution_count": 45,
   "metadata": {},
   "outputs": [
    {
     "data": {
      "image/png": "[encoded data removed]",
      "text/plain": [
       "<Figure size 1000x600 with 1 Axes>"
      ]
     },
     "metadata": {},
     "output_type": "display_data"
    }
   ],
   "source": [
    "# Calculate the mean life expectancy for each year\n",
    "years = philippines_data.columns[7:].tolist()\n",
    "mean_life_expectancy = philippines_data.iloc[:, 7:].mean()\n",
    "\n",
    "# Create a datetime index\n",
    "start_year = 1990\n",
    "end_year = 2021\n",
    "date_range = pd.date_range(start=f\"{start_year}-01-01\", end=f\"{end_year}-12-31\", freq='Y')\n",
    "\n",
    "# Assign the datetime index to the mean_life_expectancy series\n",
    "mean_life_expectancy.index = date_range\n",
    "\n",
    "# Apply a moving average to the data\n",
    "window_size = 5  # Adjust this parameter as needed\n",
    "moving_avg = mean_life_expectancy.rolling(window=window_size).mean()\n",
    "\n",
    "# Apply exponential smoothing to the data\n",
    "exponential_model = ExponentialSmoothing(mean_life_expectancy, trend='add', seasonal='add', seasonal_periods=5)\n",
    "exponential_fit = exponential_model.fit()\n",
    "\n",
    "# Plot the original, moving average, and smoothed data\n",
    "plt.figure(figsize=(10, 6))\n",
    "plt.plot(mean_life_expectancy.index, mean_life_expectancy, label='Original Data')\n",
    "plt.plot(mean_life_expectancy.index, moving_avg, label=f'{window_size}-Year Moving Average')\n",
    "plt.plot(mean_life_expectancy.index, exponential_fit.fittedvalues, label='Exponential Smoothing')\n",
    "plt.xlabel('Year')\n",
    "plt.ylabel('Life Expectancy')\n",
    "plt.title('Smoothing Techniques: Original vs. Moving Average vs. Exponential Smoothing (Philippines)')\n",
    "plt.legend()\n",
    "plt.show()"
   ]
  }
 ],
 "metadata": {
  "kernelspec": {
   "display_name": "Python 3",
   "language": "python",
   "name": "python3"
  },
  "language_info": {
   "codemirror_mode": {
    "name": "ipython",
    "version": 3
   },
   "file_extension": ".py",
   "mimetype": "text/x-python",
   "name": "python",
   "nbconvert_exporter": "python",
   "pygments_lexer": "ipython3",
   "version": "3.11.4"
  },
  "orig_nbformat": 4
 },
 "nbformat": 4,
 "nbformat_minor": 2
}
